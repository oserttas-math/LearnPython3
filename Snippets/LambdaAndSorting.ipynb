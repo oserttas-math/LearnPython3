{
 "cells": [
  {
   "cell_type": "code",
   "execution_count": 2,
   "metadata": {
    "ExecuteTime": {
     "end_time": "2020-01-06T04:38:41.654224Z",
     "start_time": "2020-01-06T04:38:41.649623Z"
    }
   },
   "outputs": [
    {
     "data": {
      "text/plain": [
       "[1, 3, 5, 7, 9, 13, 17, 19]"
      ]
     },
     "execution_count": 2,
     "metadata": {},
     "output_type": "execute_result"
    }
   ],
   "source": [
    "my_list = [1, 3, 5, 9, 13, 17, 19, 7]\n",
    "sorted(my_list)"
   ]
  },
  {
   "cell_type": "code",
   "execution_count": 3,
   "metadata": {
    "ExecuteTime": {
     "end_time": "2020-01-06T04:40:50.264979Z",
     "start_time": "2020-01-06T04:40:50.261120Z"
    }
   },
   "outputs": [
    {
     "data": {
      "text/plain": [
       "['B', 'C', 'a', 'd', 'e']"
      ]
     },
     "execution_count": 3,
     "metadata": {},
     "output_type": "execute_result"
    }
   ],
   "source": [
    "# case insensitive sort \n",
    "second_list = ['a', 'B', 'd', 'C', 'e'] # lexical graphical ordering sorts capital letters first\n",
    "sorted(second_list)"
   ]
  },
  {
   "cell_type": "code",
   "execution_count": 4,
   "metadata": {
    "ExecuteTime": {
     "end_time": "2020-01-06T04:41:19.121559Z",
     "start_time": "2020-01-06T04:41:19.117703Z"
    }
   },
   "outputs": [
    {
     "data": {
      "text/plain": [
       "['a', 'B', 'C', 'd', 'e']"
      ]
     },
     "execution_count": 4,
     "metadata": {},
     "output_type": "execute_result"
    }
   ],
   "source": [
    "# to fix that\n",
    "sorted(second_list, key=lambda x: x.upper())"
   ]
  },
  {
   "cell_type": "code",
   "execution_count": 8,
   "metadata": {
    "ExecuteTime": {
     "end_time": "2020-01-06T04:44:12.261343Z",
     "start_time": "2020-01-06T04:44:12.258410Z"
    }
   },
   "outputs": [],
   "source": [
    "# dictionary sort\n",
    "d = {\n",
    "    'abc': 500,\n",
    "    'def': 200,\n",
    "    'ghi': 100\n",
    "}"
   ]
  },
  {
   "cell_type": "code",
   "execution_count": 9,
   "metadata": {
    "ExecuteTime": {
     "end_time": "2020-01-06T04:44:12.566355Z",
     "start_time": "2020-01-06T04:44:12.562215Z"
    }
   },
   "outputs": [
    {
     "data": {
      "text/plain": [
       "['abc', 'def', 'ghi']"
      ]
     },
     "execution_count": 9,
     "metadata": {},
     "output_type": "execute_result"
    }
   ],
   "source": [
    "sorted(d) # lexical graphical ordering sorts keys"
   ]
  },
  {
   "cell_type": "code",
   "execution_count": 11,
   "metadata": {
    "ExecuteTime": {
     "end_time": "2020-01-06T04:44:31.061503Z",
     "start_time": "2020-01-06T04:44:31.057500Z"
    }
   },
   "outputs": [
    {
     "data": {
      "text/plain": [
       "['ghi', 'def', 'abc']"
      ]
     },
     "execution_count": 11,
     "metadata": {},
     "output_type": "execute_result"
    }
   ],
   "source": [
    "sorted(d, key=lambda x: d[x]) # sorted respected values in dictionary"
   ]
  },
  {
   "cell_type": "code",
   "execution_count": 12,
   "metadata": {
    "ExecuteTime": {
     "end_time": "2020-01-06T05:02:54.817527Z",
     "start_time": "2020-01-06T05:02:54.814802Z"
    }
   },
   "outputs": [],
   "source": [
    "def dist_sq(x: 'complex number') -> 'euclidian distance':\n",
    "    return (x.real)**2 + (x.imag)**2"
   ]
  },
  {
   "cell_type": "code",
   "execution_count": 25,
   "metadata": {
    "ExecuteTime": {
     "end_time": "2020-01-06T05:06:38.145135Z",
     "start_time": "2020-01-06T05:06:38.142451Z"
    }
   },
   "outputs": [],
   "source": [
    "complex_numbers = [3+3j, 1-1j, 3+0j, 0, 1+3j]"
   ]
  },
  {
   "cell_type": "code",
   "execution_count": 19,
   "metadata": {
    "ExecuteTime": {
     "end_time": "2020-01-06T05:05:01.035378Z",
     "start_time": "2020-01-06T05:05:01.031291Z"
    }
   },
   "outputs": [
    {
     "data": {
      "text/plain": [
       "18.0"
      ]
     },
     "execution_count": 19,
     "metadata": {},
     "output_type": "execute_result"
    }
   ],
   "source": [
    "dist_sq(complex_numbers[0])"
   ]
  },
  {
   "cell_type": "code",
   "execution_count": 20,
   "metadata": {
    "ExecuteTime": {
     "end_time": "2020-01-06T05:05:01.228313Z",
     "start_time": "2020-01-06T05:05:01.223032Z"
    }
   },
   "outputs": [
    {
     "data": {
      "text/plain": [
       "[0, (1-1j), (3+0j), (3+3j)]"
      ]
     },
     "execution_count": 20,
     "metadata": {},
     "output_type": "execute_result"
    }
   ],
   "source": [
    "# lets sort these complex numbers based on distances from origin\n",
    "sorted(complex_numbers, key=dist_sq)"
   ]
  },
  {
   "cell_type": "code",
   "execution_count": 26,
   "metadata": {
    "ExecuteTime": {
     "end_time": "2020-01-06T05:06:40.790626Z",
     "start_time": "2020-01-06T05:06:40.786532Z"
    }
   },
   "outputs": [
    {
     "data": {
      "text/plain": [
       "[0, (1-1j), (3+0j), (1+3j), (3+3j)]"
      ]
     },
     "execution_count": 26,
     "metadata": {},
     "output_type": "execute_result"
    }
   ],
   "source": [
    "# or with lambda\n",
    "sorted(complex_numbers, key=lambda x: (x.real)**2 + (x.imag)**2)"
   ]
  },
  {
   "cell_type": "code",
   "execution_count": 40,
   "metadata": {
    "ExecuteTime": {
     "end_time": "2020-01-06T05:17:26.609339Z",
     "start_time": "2020-01-06T05:17:26.604455Z"
    }
   },
   "outputs": [
    {
     "name": "stdout",
     "output_type": "stream",
     "text": [
      "[7, 4, 2, 9, 11, 5, 1]\n"
     ]
    }
   ],
   "source": [
    "# produce randomized list with sorted function\n",
    "import random\n",
    "\n",
    "initial_list = [1, 2, 4, 5, 7, 9, 11]\n",
    "my_random_list = sorted(initial_list, key=lambda x: random.random())\n",
    "print(my_random_list)"
   ]
  },
  {
   "cell_type": "code",
   "execution_count": 30,
   "metadata": {
    "ExecuteTime": {
     "end_time": "2020-01-06T05:13:33.446891Z",
     "start_time": "2020-01-06T05:13:33.443437Z"
    }
   },
   "outputs": [
    {
     "name": "stdout",
     "output_type": "stream",
     "text": [
      "Help on built-in function random:\n",
      "\n",
      "random(...) method of random.Random instance\n",
      "    random() -> x in the interval [0, 1).\n",
      "\n"
     ]
    }
   ],
   "source": [
    "help(random.random)"
   ]
  },
  {
   "cell_type": "code",
   "execution_count": null,
   "metadata": {},
   "outputs": [],
   "source": []
  }
 ],
 "metadata": {
  "kernelspec": {
   "display_name": "Python 3",
   "language": "python",
   "name": "python3"
  },
  "language_info": {
   "codemirror_mode": {
    "name": "ipython",
    "version": 3
   },
   "file_extension": ".py",
   "mimetype": "text/x-python",
   "name": "python",
   "nbconvert_exporter": "python",
   "pygments_lexer": "ipython3",
   "version": "3.7.5"
  },
  "toc": {
   "base_numbering": 1,
   "nav_menu": {},
   "number_sections": true,
   "sideBar": true,
   "skip_h1_title": false,
   "title_cell": "Table of Contents",
   "title_sidebar": "Contents",
   "toc_cell": false,
   "toc_position": {},
   "toc_section_display": true,
   "toc_window_display": false
  }
 },
 "nbformat": 4,
 "nbformat_minor": 2
}
