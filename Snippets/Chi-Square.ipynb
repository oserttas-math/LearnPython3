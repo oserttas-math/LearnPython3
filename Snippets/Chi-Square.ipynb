{
 "cells": [
  {
   "cell_type": "markdown",
   "metadata": {},
   "source": [
    "# Chi Square\n",
    "\n",
    "The idea behind the chi-square test of independence, much like the analysis of variance is to measure how far the data are from what is claimed in the null hypothesis. The further the data are from the null hypothesis, the more evidence the data presents against it.\n",
    "\n",
    "To represent the null hypothesis, we're gonna calculate another set of counts. The counts that we would expect to see, instead of the observed ones. If drunk driving and gender were really independent. That is, if the null hypothesis were true.\n",
    "\n",
    "The Observed Counts, that is the data. And the Expected Counts, if the null hypothesis were true. We will measure how far the observed counts are from the expected ones. We will base our decision on the size of the discrepancy between what we observe and what we would expect to observe, if the null hypothesis were true.\n",
    "Start transcript at 6 minutes 35 seconds\n",
    "\n",
    "$$ Expected Count = \\frac{Column Total * Row Total}{Table Total} $$\n",
    "\n",
    "Importantly, the single number that summarizes the overall difference between Observed and Expected Counts is the chi-square statistic denoted as chi or x squared. Which tells us in a standardized way, how far what we observe, that is the data is from what we would expect to observe, if the null hypothesis were true.\n",
    "\n",
    "$$ \\chi^2 = \\sum\\nolimits_{all cells}(\\frac{(Observed Count - Expected Count)^2}{Expected Count})$$\n",
    "\n",
    "i.e. 4 cells for 2 x 2 crosstabulation\n",
    "\n",
    "The p value for the chi squared test of independence is the probability of getting counts like those observed, assuming that the two variables are not related. Which is what is claimed by the null hypothesis. The smaller the p value, the more surprising it would be to get counts like we did, if the null hypothesis were true. Technically, the p value is the probability of observing a chi-square at least as large as the one observed."
   ]
  },
  {
   "cell_type": "code",
   "execution_count": 68,
   "metadata": {
    "ExecuteTime": {
     "end_time": "2020-02-16T09:10:59.907147Z",
     "start_time": "2020-02-16T09:10:59.904511Z"
    }
   },
   "outputs": [],
   "source": [
    "import pandas as pd\n",
    "import numpy as np\n",
    "import scipy.stats\n",
    "import seaborn as sns\n",
    "import matplotlib.pyplot as plt\n",
    "\n"
   ]
  },
  {
   "cell_type": "code",
   "execution_count": 40,
   "metadata": {
    "ExecuteTime": {
     "end_time": "2020-02-16T09:05:46.936289Z",
     "start_time": "2020-02-16T09:05:23.534231Z"
    }
   },
   "outputs": [],
   "source": [
    "data = pd.read_csv('data/nesarcdata.csv', low_memory=False)"
   ]
  },
  {
   "cell_type": "code",
   "execution_count": 52,
   "metadata": {
    "ExecuteTime": {
     "end_time": "2020-02-16T09:08:20.450161Z",
     "start_time": "2020-02-16T09:08:20.443937Z"
    }
   },
   "outputs": [],
   "source": [
    "data['TAB12MDX'] = pd.to_numeric(data['TAB12MDX'], errors='coerce') # nikotin dependence indicator\n",
    "data['CHECK321'] = pd.to_numeric(data['CHECK321'], errors='coerce')\n",
    "data['S3AQ3B1'] = pd.to_numeric(data['S3AQ3B1'], errors='coerce')\n",
    "data['S3AQ3C1'] = pd.to_numeric(data['S3AQ3C1'], errors='coerce')\n",
    "data['AGE'] = pd.to_numeric(data['AGE'], errors='coerce')"
   ]
  },
  {
   "cell_type": "code",
   "execution_count": 42,
   "metadata": {
    "ExecuteTime": {
     "end_time": "2020-02-16T09:06:00.181959Z",
     "start_time": "2020-02-16T09:06:00.033178Z"
    }
   },
   "outputs": [],
   "source": [
    "# subset data to young adults age 18 to 25 who have smoked in the past 12 months\n",
    "sub1 = data[(data['AGE']>=18) &\n",
    "           (data['AGE']<=25) &\n",
    "           (data['CHECK321']==1)].copy()"
   ]
  },
  {
   "cell_type": "code",
   "execution_count": 43,
   "metadata": {
    "ExecuteTime": {
     "end_time": "2020-02-16T09:06:00.866849Z",
     "start_time": "2020-02-16T09:06:00.862137Z"
    }
   },
   "outputs": [],
   "source": [
    "sub1['S3AQ3B1'] = sub1['S3AQ3B1'].replace(9, np.nan)\n",
    "sub1['S3AQ3C1'] = sub1['S3AQ3C1'].replace(99, np.nan)"
   ]
  },
  {
   "cell_type": "code",
   "execution_count": 53,
   "metadata": {
    "ExecuteTime": {
     "end_time": "2020-02-16T09:08:43.074031Z",
     "start_time": "2020-02-16T09:08:43.067789Z"
    }
   },
   "outputs": [],
   "source": [
    "recode1 = {1: 30 , 2: 22, 3: 14, 4: 6, 5: 2.5, 6:1 }\n",
    "sub1['USFREQMO'] = sub1['S3AQ3B1'].map(recode1)\n",
    "sub1['USFREQMO'] = sub1['USFREQMO'].astype('category')"
   ]
  },
  {
   "cell_type": "code",
   "execution_count": 54,
   "metadata": {
    "ExecuteTime": {
     "end_time": "2020-02-16T09:08:44.596669Z",
     "start_time": "2020-02-16T09:08:44.575125Z"
    }
   },
   "outputs": [
    {
     "data": {
      "text/html": [
       "<div>\n",
       "<style scoped>\n",
       "    .dataframe tbody tr th:only-of-type {\n",
       "        vertical-align: middle;\n",
       "    }\n",
       "\n",
       "    .dataframe tbody tr th {\n",
       "        vertical-align: top;\n",
       "    }\n",
       "\n",
       "    .dataframe thead th {\n",
       "        text-align: right;\n",
       "    }\n",
       "</style>\n",
       "<table border=\"1\" class=\"dataframe\">\n",
       "  <thead>\n",
       "    <tr style=\"text-align: right;\">\n",
       "      <th>USFREQMO</th>\n",
       "      <th>1.0</th>\n",
       "      <th>2.5</th>\n",
       "      <th>6.0</th>\n",
       "      <th>14.0</th>\n",
       "      <th>22.0</th>\n",
       "      <th>30.0</th>\n",
       "    </tr>\n",
       "    <tr>\n",
       "      <th>TAB12MDX</th>\n",
       "      <th></th>\n",
       "      <th></th>\n",
       "      <th></th>\n",
       "      <th></th>\n",
       "      <th></th>\n",
       "      <th></th>\n",
       "    </tr>\n",
       "  </thead>\n",
       "  <tbody>\n",
       "    <tr>\n",
       "      <th>0</th>\n",
       "      <td>64</td>\n",
       "      <td>53</td>\n",
       "      <td>69</td>\n",
       "      <td>59</td>\n",
       "      <td>41</td>\n",
       "      <td>521</td>\n",
       "    </tr>\n",
       "    <tr>\n",
       "      <th>1</th>\n",
       "      <td>7</td>\n",
       "      <td>12</td>\n",
       "      <td>19</td>\n",
       "      <td>32</td>\n",
       "      <td>27</td>\n",
       "      <td>799</td>\n",
       "    </tr>\n",
       "  </tbody>\n",
       "</table>\n",
       "</div>"
      ],
      "text/plain": [
       "USFREQMO  1.0   2.5   6.0   14.0  22.0  30.0\n",
       "TAB12MDX                                    \n",
       "0           64    53    69    59    41   521\n",
       "1            7    12    19    32    27   799"
      ]
     },
     "execution_count": 54,
     "metadata": {},
     "output_type": "execute_result"
    }
   ],
   "source": [
    "ct1 = pd.crosstab(sub1['TAB12MDX'], sub1['USFREQMO'], margins=False)\n",
    "ct1"
   ]
  },
  {
   "cell_type": "markdown",
   "metadata": {},
   "source": [
    "You can see that there were 64 participants who smoked approximately one day a month without nicotine dependence. And seven participants who smoked once a month with nicotine dependence.\n",
    "\n",
    "At the other end of the table, among smoking daily, that is 30 days a month, 521 participants do not have nicotine dependence. And 799 do have nicotine dependence."
   ]
  },
  {
   "cell_type": "code",
   "execution_count": 55,
   "metadata": {
    "ExecuteTime": {
     "end_time": "2020-02-16T09:08:45.866514Z",
     "start_time": "2020-02-16T09:08:45.857583Z"
    }
   },
   "outputs": [
    {
     "name": "stdout",
     "output_type": "stream",
     "text": [
      "USFREQMO      1.0       2.5       6.0       14.0      22.0      30.0\n",
      "TAB12MDX                                                            \n",
      "0         0.901408  0.815385  0.784091  0.648352  0.602941  0.394697\n",
      "1         0.098592  0.184615  0.215909  0.351648  0.397059  0.605303\n"
     ]
    }
   ],
   "source": [
    "# column percentages\n",
    "colsum = ct1.sum(axis=0)\n",
    "colpct = ct1 / colsum\n",
    "print(colpct)"
   ]
  },
  {
   "cell_type": "markdown",
   "metadata": {},
   "source": [
    "percent of individuals with or without nicotine dependence within each smoking frequency category or level.\n",
    "Examining these column percents for those with nicotine dependence, that is, TAB12MDX = 1, we see that as smoking frequency increases, the rate of nicotine dependence also increases"
   ]
  },
  {
   "cell_type": "code",
   "execution_count": 56,
   "metadata": {
    "ExecuteTime": {
     "end_time": "2020-02-16T09:08:47.471076Z",
     "start_time": "2020-02-16T09:08:47.466569Z"
    }
   },
   "outputs": [
    {
     "name": "stdout",
     "output_type": "stream",
     "text": [
      "Chi-square value, p value, expected counts\n",
      "(165.27320708055845, 7.436364208390599e-34, 5, array([[ 33.64474457,  30.80152672,  41.70052848,  43.1221374 ,\n",
      "         32.22313564, 625.50792719],\n",
      "       [ 37.35525543,  34.19847328,  46.29947152,  47.8778626 ,\n",
      "         35.77686436, 694.49207281]]))\n"
     ]
    }
   ],
   "source": [
    "print('Chi-square value, p value, expected counts')\n",
    "cs1 = scipy.stats.chi2_contingency(ct1)\n",
    "print(cs1)"
   ]
  },
  {
   "cell_type": "markdown",
   "metadata": {},
   "source": [
    "Now, looking at the chi-square results, the chi-square value is large, 165. And the P value, shown in scientific notation, is quite small. Approximately 7.4e-34. Which clearly tells us that smoking and nicotine dependence are significantly associated. \n",
    "\n",
    "So why did we calculated the column percents? So which of these percentage types should we calculate when trying to interpret the chi-square results for smoking frequency and nicotine dependents? If the output is set with the explanatory variable categories across the top of the table, and response variable categories down the side, it will be the column percent that we want to interpret. In other words, we're interested in whether the rate of nicotine dependence differs according to which explanatory group the observations belong to, that is, which smoking frequency group.\n",
    "\n",
    "Notice that we are not interested in the column percentages for those observations without nicotine dependence. Indicated with a dummy code of 0. Instead, we're interested in describing the presence of nicotine dependence within the smoking frequency groups."
   ]
  },
  {
   "cell_type": "code",
   "execution_count": 71,
   "metadata": {
    "ExecuteTime": {
     "end_time": "2020-02-16T09:12:05.747211Z",
     "start_time": "2020-02-16T09:12:05.740651Z"
    }
   },
   "outputs": [
    {
     "data": {
      "text/plain": [
       "30.0    1320\n",
       "14.0      91\n",
       "6.0       88\n",
       "1.0       71\n",
       "22.0      68\n",
       "2.5       65\n",
       "Name: USFREQMO, dtype: int64"
      ]
     },
     "execution_count": 71,
     "metadata": {},
     "output_type": "execute_result"
    }
   ],
   "source": [
    "sub1['USFREQMO'].value_counts()"
   ]
  },
  {
   "cell_type": "code",
   "execution_count": 88,
   "metadata": {
    "ExecuteTime": {
     "end_time": "2020-02-16T09:18:28.706420Z",
     "start_time": "2020-02-16T09:18:28.316139Z"
    }
   },
   "outputs": [
    {
     "data": {
      "image/png": "[encoded data removed]",
      "text/plain": [
       "<Figure size 720x576 with 1 Axes>"
      ]
     },
     "metadata": {
      "needs_background": "light"
     },
     "output_type": "display_data"
    }
   ],
   "source": [
    "plt.figure(figsize=(10, 8))\n",
    "sns.barplot(x='USFREQMO', y='TAB12MDX', data=sub1)\n",
    "plt.xlabel('Days somked per month')\n",
    "plt.ylabel('Proportion Nicotine Dependent');"
   ]
  },
  {
   "cell_type": "markdown",
   "metadata": {},
   "source": [
    "Now I can visualize the association, and see even more clearly that there seems to be a positive linear relationship, that is the more days per month a young adult smokes, the more likely they are to have nicotine dependence. I know from looking at the significant P value, that I will accept the alternate hypothesis. That not all nicotine dependents rates are equal across smoking frequency categories. If my explanatory variably had only two levels, I could interpret the two corresponding column percentages and be able to say which group had a significantly higher rate of nicotine dependents. But my explanatory variable has six categories. So I know that not all are equal. But I don't know which are different and which are not."
   ]
  },
  {
   "cell_type": "markdown",
   "metadata": {},
   "source": [
    "# Post Hoc Test for Chi Square Test of Independence"
   ]
  },
  {
   "cell_type": "markdown",
   "metadata": {},
   "source": [
    "To determine which groups are different from the others, we will again need to perform a post hoc test. By conducting post hoc comparisons between pairs of rates in a way that avoids excessive type one error, in other words, avoids rejecting the null hypothesis when the null hypothesis is true. We will be much better able to appropriately describe which population rates are different from the others.\n",
    "If we reject a null hypothesis, we need to perform comparisons for each pair of nicotine dependent's rates across the six smoking frequency categories. In the case of six groups, we actually need to perform 15 pair wise comparisons.\n",
    "\n",
    "So, to appropriately protect against type 1 error in the context of a chi-squared test, we will use the post doc approach known as the Bonferroni Adjustment. The goal of using the Bonferroni adjustment, is to control the family-wise error rate, also known as the maximum overall type 1 error rate. So that we can evaluate which pairs of nicotine dependence rates are different from one another.\n",
    "\n",
    "Briefly, the process would be to conduct each of the 15 paired comparisons. But rather than evaluating significance at the p .05 level, we would adjust the p value to make it more difficult to reject the null hypothesis. The adjusted p value is calculated by dividing p 0.05 by the number of comparisons that we plan to make. So if we make 3 comparisons we would only reject the null hypothesis if the p value were .017 or less.\n"
   ]
  },
  {
   "cell_type": "code",
   "execution_count": 95,
   "metadata": {
    "ExecuteTime": {
     "end_time": "2020-02-16T09:34:29.336725Z",
     "start_time": "2020-02-16T09:34:29.318832Z"
    }
   },
   "outputs": [
    {
     "data": {
      "text/html": [
       "<div>\n",
       "<style scoped>\n",
       "    .dataframe tbody tr th:only-of-type {\n",
       "        vertical-align: middle;\n",
       "    }\n",
       "\n",
       "    .dataframe tbody tr th {\n",
       "        vertical-align: top;\n",
       "    }\n",
       "\n",
       "    .dataframe thead th {\n",
       "        text-align: right;\n",
       "    }\n",
       "</style>\n",
       "<table border=\"1\" class=\"dataframe\">\n",
       "  <thead>\n",
       "    <tr style=\"text-align: right;\">\n",
       "      <th>COMP1v2</th>\n",
       "      <th>1.0</th>\n",
       "      <th>2.5</th>\n",
       "    </tr>\n",
       "    <tr>\n",
       "      <th>TAB12MDX</th>\n",
       "      <th></th>\n",
       "      <th></th>\n",
       "    </tr>\n",
       "  </thead>\n",
       "  <tbody>\n",
       "    <tr>\n",
       "      <th>0</th>\n",
       "      <td>64</td>\n",
       "      <td>53</td>\n",
       "    </tr>\n",
       "    <tr>\n",
       "      <th>1</th>\n",
       "      <td>7</td>\n",
       "      <td>12</td>\n",
       "    </tr>\n",
       "  </tbody>\n",
       "</table>\n",
       "</div>"
      ],
      "text/plain": [
       "COMP1v2   1.0  2.5\n",
       "TAB12MDX          \n",
       "0          64   53\n",
       "1           7   12"
      ]
     },
     "execution_count": 95,
     "metadata": {},
     "output_type": "execute_result"
    }
   ],
   "source": [
    "# first pair\n",
    "recode2 = {1: 1, 2.5: 2.5}\n",
    "sub1['COMP1v2'] = sub1['USFREQMO'].map(recode2)\n",
    "\n",
    "ct2 = pd.crosstab(sub1['TAB12MDX'], sub1['COMP1v2'])\n",
    "ct2"
   ]
  },
  {
   "cell_type": "code",
   "execution_count": 96,
   "metadata": {
    "ExecuteTime": {
     "end_time": "2020-02-16T09:35:16.465293Z",
     "start_time": "2020-02-16T09:35:16.457057Z"
    }
   },
   "outputs": [
    {
     "data": {
      "text/html": [
       "<div>\n",
       "<style scoped>\n",
       "    .dataframe tbody tr th:only-of-type {\n",
       "        vertical-align: middle;\n",
       "    }\n",
       "\n",
       "    .dataframe tbody tr th {\n",
       "        vertical-align: top;\n",
       "    }\n",
       "\n",
       "    .dataframe thead th {\n",
       "        text-align: right;\n",
       "    }\n",
       "</style>\n",
       "<table border=\"1\" class=\"dataframe\">\n",
       "  <thead>\n",
       "    <tr style=\"text-align: right;\">\n",
       "      <th>COMP1v2</th>\n",
       "      <th>1.0</th>\n",
       "      <th>2.5</th>\n",
       "    </tr>\n",
       "    <tr>\n",
       "      <th>TAB12MDX</th>\n",
       "      <th></th>\n",
       "      <th></th>\n",
       "    </tr>\n",
       "  </thead>\n",
       "  <tbody>\n",
       "    <tr>\n",
       "      <th>0</th>\n",
       "      <td>0.901408</td>\n",
       "      <td>0.815385</td>\n",
       "    </tr>\n",
       "    <tr>\n",
       "      <th>1</th>\n",
       "      <td>0.098592</td>\n",
       "      <td>0.184615</td>\n",
       "    </tr>\n",
       "  </tbody>\n",
       "</table>\n",
       "</div>"
      ],
      "text/plain": [
       "COMP1v2        1.0       2.5\n",
       "TAB12MDX                    \n",
       "0         0.901408  0.815385\n",
       "1         0.098592  0.184615"
      ]
     },
     "execution_count": 96,
     "metadata": {},
     "output_type": "execute_result"
    }
   ],
   "source": [
    "colsum2 = ct2.sum(axis=0)\n",
    "colpct2 = ct2 / colsum2\n",
    "colpct2"
   ]
  },
  {
   "cell_type": "markdown",
   "metadata": {},
   "source": [
    "Again, I want to focus here on the column percentages. 9.86% and 18.46%. Are these two rates significantly different from one another? If I look down at my chi-square value and probability value, a p value of 0.23, I can see that they aren't."
   ]
  },
  {
   "cell_type": "code",
   "execution_count": 102,
   "metadata": {
    "ExecuteTime": {
     "end_time": "2020-02-16T09:37:27.920434Z",
     "start_time": "2020-02-16T09:37:27.916141Z"
    }
   },
   "outputs": [
    {
     "name": "stdout",
     "output_type": "stream",
     "text": [
      "Bonferroni Corrected p_value:  0.0033333333333333335\n",
      "\n",
      "Chi-square value, p value, expected counts\n",
      "(1.4348930637007287, 0.2309675448977717, 1, array([[61.08088235, 55.91911765],\n",
      "       [ 9.91911765,  9.08088235]]))\n"
     ]
    }
   ],
   "source": [
    "print('Bonferroni Corrected p_value: ' , 0.05 / 15)\n",
    "print()\n",
    "print('Chi-square value, p value, expected counts')\n",
    "cs2 = scipy.stats.chi2_contingency(ct2)\n",
    "print(cs2)\n"
   ]
  },
  {
   "cell_type": "code",
   "execution_count": 98,
   "metadata": {
    "ExecuteTime": {
     "end_time": "2020-02-16T09:36:11.547564Z",
     "start_time": "2020-02-16T09:36:11.302149Z"
    }
   },
   "outputs": [
    {
     "data": {
      "image/png": "[encoded data removed]",
      "text/plain": [
       "<Figure size 720x576 with 1 Axes>"
      ]
     },
     "metadata": {
      "needs_background": "light"
     },
     "output_type": "display_data"
    }
   ],
   "source": [
    "plt.figure(figsize=(10, 8))\n",
    "sns.barplot(x='COMP1v2', y='TAB12MDX', data=sub1)\n",
    "plt.xlabel('Days somked per month')\n",
    "plt.ylabel('Proportion Nicotine Dependent');"
   ]
  },
  {
   "cell_type": "markdown",
   "metadata": {},
   "source": [
    "As we can see, smoking frequency group 30, that is, those who smoke 30 days in a usual month, is significantly different from each of the other smoking frequency levels. In addition, smoking frequency group 1 has significantly different nicotine dependence rates, than smoking frequency groups of 14 and 22."
   ]
  },
  {
   "cell_type": "markdown",
   "metadata": {},
   "source": [
    "![Results of Post Hoc](chisquareposthoc.png)"
   ]
  },
  {
   "cell_type": "markdown",
   "metadata": {},
   "source": [
    "Here are the p values that are less than 0.003. As we can see, smoking frequency group 30, that is, those who smoke 30 days in a usual month, is significantly different from each of the other smoking frequency levels. In addition, smoking frequency group 1 has significantly different nicotine dependence rates, than smoking frequency groups of 14 and 22."
   ]
  },
  {
   "cell_type": "code",
   "execution_count": null,
   "metadata": {},
   "outputs": [],
   "source": []
  }
 ],
 "metadata": {
  "kernelspec": {
   "display_name": "Python 3",
   "language": "python",
   "name": "python3"
  },
  "language_info": {
   "codemirror_mode": {
    "name": "ipython",
    "version": 3
   },
   "file_extension": ".py",
   "mimetype": "text/x-python",
   "name": "python",
   "nbconvert_exporter": "python",
   "pygments_lexer": "ipython3",
   "version": "3.7.5"
  },
  "toc": {
   "base_numbering": 1,
   "nav_menu": {},
   "number_sections": true,
   "sideBar": true,
   "skip_h1_title": false,
   "title_cell": "Table of Contents",
   "title_sidebar": "Contents",
   "toc_cell": false,
   "toc_position": {},
   "toc_section_display": true,
   "toc_window_display": false
  }
 },
 "nbformat": 4,
 "nbformat_minor": 2
}
