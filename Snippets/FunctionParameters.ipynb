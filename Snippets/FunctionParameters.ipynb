{
 "cells": [
  {
   "cell_type": "code",
   "execution_count": 3,
   "metadata": {
    "ExecuteTime": {
     "end_time": "2019-12-22T03:26:09.926694Z",
     "start_time": "2019-12-22T03:26:09.924064Z"
    }
   },
   "outputs": [],
   "source": [
    "def func(*, d, **kwargs):\n",
    "    print(d, kwargs)"
   ]
  },
  {
   "cell_type": "code",
   "execution_count": 5,
   "metadata": {
    "ExecuteTime": {
     "end_time": "2019-12-22T03:26:31.319779Z",
     "start_time": "2019-12-22T03:26:31.313325Z"
    }
   },
   "outputs": [
    {
     "ename": "TypeError",
     "evalue": "func() takes 0 positional arguments but 2 were given",
     "output_type": "error",
     "traceback": [
      "\u001b[0;31m---------------------------------------------------------------------------\u001b[0m",
      "\u001b[0;31mTypeError\u001b[0m                                 Traceback (most recent call last)",
      "\u001b[0;32m<ipython-input-5-b96acce6ed4a>\u001b[0m in \u001b[0;36m<module>\u001b[0;34m\u001b[0m\n\u001b[0;32m----> 1\u001b[0;31m \u001b[0mfunc\u001b[0m\u001b[0;34m(\u001b[0m\u001b[0;36m1\u001b[0m\u001b[0;34m,\u001b[0m\u001b[0;36m2\u001b[0m\u001b[0;34m)\u001b[0m\u001b[0;34m\u001b[0m\u001b[0;34m\u001b[0m\u001b[0m\n\u001b[0m",
      "\u001b[0;31mTypeError\u001b[0m: func() takes 0 positional arguments but 2 were given"
     ]
    }
   ],
   "source": [
    "func(1,2)"
   ]
  },
  {
   "cell_type": "code",
   "execution_count": 17,
   "metadata": {
    "ExecuteTime": {
     "end_time": "2019-12-22T03:33:52.070493Z",
     "start_time": "2019-12-22T03:33:52.067431Z"
    }
   },
   "outputs": [
    {
     "ename": "SyntaxError",
     "evalue": "named arguments must follow bare * (<ipython-input-17-98217785dd23>, line 2)",
     "output_type": "error",
     "traceback": [
      "\u001b[0;36m  File \u001b[0;32m\"<ipython-input-17-98217785dd23>\"\u001b[0;36m, line \u001b[0;32m2\u001b[0m\n\u001b[0;31m    def func0(*):\u001b[0m\n\u001b[0m             ^\u001b[0m\n\u001b[0;31mSyntaxError\u001b[0m\u001b[0;31m:\u001b[0m named arguments must follow bare *\n"
     ]
    }
   ],
   "source": [
    "# you have to define a named argument\n",
    "def func0(*):\n",
    "    print('a')"
   ]
  },
  {
   "cell_type": "code",
   "execution_count": 18,
   "metadata": {
    "ExecuteTime": {
     "end_time": "2019-12-22T03:34:08.404831Z",
     "start_time": "2019-12-22T03:34:08.402207Z"
    }
   },
   "outputs": [],
   "source": [
    "def func0(*, a='ali'):\n",
    "    print(a)"
   ]
  },
  {
   "cell_type": "code",
   "execution_count": 22,
   "metadata": {
    "ExecuteTime": {
     "end_time": "2019-12-22T03:34:42.047796Z",
     "start_time": "2019-12-22T03:34:42.041263Z"
    }
   },
   "outputs": [
    {
     "ename": "TypeError",
     "evalue": "func0() got an unexpected keyword argument 'b'",
     "output_type": "error",
     "traceback": [
      "\u001b[0;31m---------------------------------------------------------------------------\u001b[0m",
      "\u001b[0;31mTypeError\u001b[0m                                 Traceback (most recent call last)",
      "\u001b[0;32m<ipython-input-22-17448c7019aa>\u001b[0m in \u001b[0;36m<module>\u001b[0;34m\u001b[0m\n\u001b[0;32m----> 1\u001b[0;31m \u001b[0mfunc0\u001b[0m\u001b[0;34m(\u001b[0m\u001b[0mb\u001b[0m\u001b[0;34m=\u001b[0m\u001b[0;34m'aki'\u001b[0m\u001b[0;34m)\u001b[0m\u001b[0;34m\u001b[0m\u001b[0;34m\u001b[0m\u001b[0m\n\u001b[0m",
      "\u001b[0;31mTypeError\u001b[0m: func0() got an unexpected keyword argument 'b'"
     ]
    }
   ],
   "source": [
    "func0(b='aki')"
   ]
  },
  {
   "cell_type": "code",
   "execution_count": 23,
   "metadata": {
    "ExecuteTime": {
     "end_time": "2019-12-22T03:34:58.987685Z",
     "start_time": "2019-12-22T03:34:58.984342Z"
    }
   },
   "outputs": [
    {
     "name": "stdout",
     "output_type": "stream",
     "text": [
      "print now\n"
     ]
    }
   ],
   "source": [
    "func0(a='print now')"
   ]
  },
  {
   "cell_type": "code",
   "execution_count": 7,
   "metadata": {
    "ExecuteTime": {
     "end_time": "2019-12-22T03:27:48.582304Z",
     "start_time": "2019-12-22T03:27:48.578949Z"
    }
   },
   "outputs": [
    {
     "name": "stdout",
     "output_type": "stream",
     "text": [
      "4 {'a': 1, 'b': 4}\n"
     ]
    }
   ],
   "source": [
    "# * means no positional argument to be entered\n",
    "# so if you pass keyword argumants it will work\n",
    "func(d=4, a=1, b=4)"
   ]
  },
  {
   "cell_type": "code",
   "execution_count": 10,
   "metadata": {
    "ExecuteTime": {
     "end_time": "2019-12-22T03:28:18.342683Z",
     "start_time": "2019-12-22T03:28:18.338913Z"
    }
   },
   "outputs": [
    {
     "name": "stdout",
     "output_type": "stream",
     "text": [
      "1 {}\n"
     ]
    }
   ],
   "source": [
    "func(d=1)"
   ]
  },
  {
   "cell_type": "code",
   "execution_count": 11,
   "metadata": {
    "ExecuteTime": {
     "end_time": "2019-12-22T03:29:17.776655Z",
     "start_time": "2019-12-22T03:29:17.774111Z"
    }
   },
   "outputs": [],
   "source": [
    "# you can do enter any amount of keyword arguments\n",
    "def func1(**kwargs):\n",
    "    print(kwargs)"
   ]
  },
  {
   "cell_type": "code",
   "execution_count": 12,
   "metadata": {
    "ExecuteTime": {
     "end_time": "2019-12-22T03:30:04.710734Z",
     "start_time": "2019-12-22T03:30:04.707434Z"
    }
   },
   "outputs": [
    {
     "name": "stdout",
     "output_type": "stream",
     "text": [
      "{'a': 1, 'b': 2, 'c': 4}\n"
     ]
    }
   ],
   "source": [
    "func1(a=1, b=2, c=4)"
   ]
  },
  {
   "cell_type": "code",
   "execution_count": 13,
   "metadata": {
    "ExecuteTime": {
     "end_time": "2019-12-22T03:30:51.837668Z",
     "start_time": "2019-12-22T03:30:51.834417Z"
    }
   },
   "outputs": [],
   "source": [
    "def func2(*args, **kwargs):\n",
    "    print(args)\n",
    "    print(kwargs)"
   ]
  },
  {
   "cell_type": "code",
   "execution_count": 14,
   "metadata": {
    "ExecuteTime": {
     "end_time": "2019-12-22T03:31:16.724318Z",
     "start_time": "2019-12-22T03:31:16.720308Z"
    }
   },
   "outputs": [
    {
     "ename": "SyntaxError",
     "evalue": "positional argument follows keyword argument (<ipython-input-14-23c66f723b9c>, line 1)",
     "output_type": "error",
     "traceback": [
      "\u001b[0;36m  File \u001b[0;32m\"<ipython-input-14-23c66f723b9c>\"\u001b[0;36m, line \u001b[0;32m1\u001b[0m\n\u001b[0;31m    func2(1, 2, x=10, y = 100, z= 1000, 123)\u001b[0m\n\u001b[0m                                       ^\u001b[0m\n\u001b[0;31mSyntaxError\u001b[0m\u001b[0;31m:\u001b[0m positional argument follows keyword argument\n"
     ]
    }
   ],
   "source": [
    "func2(1, 2, x=10, y = 100, z= 1000, 123)"
   ]
  },
  {
   "cell_type": "code",
   "execution_count": 15,
   "metadata": {
    "ExecuteTime": {
     "end_time": "2019-12-22T03:31:27.422487Z",
     "start_time": "2019-12-22T03:31:27.419366Z"
    }
   },
   "outputs": [
    {
     "name": "stdout",
     "output_type": "stream",
     "text": [
      "(1, 2)\n",
      "{'x': 10, 'y': 100, 'z': 1000}\n"
     ]
    }
   ],
   "source": [
    "func2(1, 2, x=10, y = 100, z= 1000)"
   ]
  },
  {
   "cell_type": "code",
   "execution_count": 46,
   "metadata": {
    "ExecuteTime": {
     "end_time": "2019-12-22T03:47:42.760478Z",
     "start_time": "2019-12-22T03:47:42.756790Z"
    }
   },
   "outputs": [],
   "source": [
    "def func4(a, b, *args, kw1, kw2=10):\n",
    "    print('a', a) # required named argument\n",
    "    print('b', b) # required named argument\n",
    "    print('args', args) # not required positional args\n",
    "    print('kw1', kw1) # required named argument\n",
    "    print('kw2', kw2) # default is given so not a required named arg"
   ]
  },
  {
   "cell_type": "code",
   "execution_count": 47,
   "metadata": {
    "ExecuteTime": {
     "end_time": "2019-12-22T03:47:43.318684Z",
     "start_time": "2019-12-22T03:47:43.306965Z"
    }
   },
   "outputs": [
    {
     "ename": "TypeError",
     "evalue": "func4() missing 1 required positional argument: 'b'",
     "output_type": "error",
     "traceback": [
      "\u001b[0;31m---------------------------------------------------------------------------\u001b[0m",
      "\u001b[0;31mTypeError\u001b[0m                                 Traceback (most recent call last)",
      "\u001b[0;32m<ipython-input-47-5bf2376e1c22>\u001b[0m in \u001b[0;36m<module>\u001b[0;34m\u001b[0m\n\u001b[0;32m----> 1\u001b[0;31m \u001b[0mfunc4\u001b[0m\u001b[0;34m(\u001b[0m\u001b[0;36m1\u001b[0m\u001b[0;34m)\u001b[0m\u001b[0;34m\u001b[0m\u001b[0;34m\u001b[0m\u001b[0m\n\u001b[0m",
      "\u001b[0;31mTypeError\u001b[0m: func4() missing 1 required positional argument: 'b'"
     ]
    }
   ],
   "source": [
    "func4(1)"
   ]
  },
  {
   "cell_type": "code",
   "execution_count": 48,
   "metadata": {
    "ExecuteTime": {
     "end_time": "2019-12-22T03:47:43.528805Z",
     "start_time": "2019-12-22T03:47:43.521871Z"
    }
   },
   "outputs": [
    {
     "ename": "TypeError",
     "evalue": "func4() missing 1 required keyword-only argument: 'kw1'",
     "output_type": "error",
     "traceback": [
      "\u001b[0;31m---------------------------------------------------------------------------\u001b[0m",
      "\u001b[0;31mTypeError\u001b[0m                                 Traceback (most recent call last)",
      "\u001b[0;32m<ipython-input-48-8644be382265>\u001b[0m in \u001b[0;36m<module>\u001b[0;34m\u001b[0m\n\u001b[0;32m----> 1\u001b[0;31m \u001b[0mfunc4\u001b[0m\u001b[0;34m(\u001b[0m\u001b[0ma\u001b[0m\u001b[0;34m=\u001b[0m\u001b[0;36m1\u001b[0m\u001b[0;34m,\u001b[0m \u001b[0mb\u001b[0m\u001b[0;34m=\u001b[0m\u001b[0;36m2\u001b[0m\u001b[0;34m)\u001b[0m\u001b[0;34m\u001b[0m\u001b[0;34m\u001b[0m\u001b[0m\n\u001b[0m",
      "\u001b[0;31mTypeError\u001b[0m: func4() missing 1 required keyword-only argument: 'kw1'"
     ]
    }
   ],
   "source": [
    "func4(a=1, b=2)"
   ]
  },
  {
   "cell_type": "code",
   "execution_count": 49,
   "metadata": {
    "ExecuteTime": {
     "end_time": "2019-12-22T03:47:43.682052Z",
     "start_time": "2019-12-22T03:47:43.678860Z"
    }
   },
   "outputs": [
    {
     "name": "stdout",
     "output_type": "stream",
     "text": [
      "a 1\n",
      "b 3\n",
      "args ()\n",
      "kw1 5\n",
      "kw2 10\n"
     ]
    }
   ],
   "source": [
    "func4(a=1, b=3, kw1=5)"
   ]
  },
  {
   "cell_type": "code",
   "execution_count": 50,
   "metadata": {
    "ExecuteTime": {
     "end_time": "2019-12-22T03:56:00.526725Z",
     "start_time": "2019-12-22T03:56:00.524031Z"
    }
   },
   "outputs": [],
   "source": [
    "# once you started using keyword arguments in function call you have to keep same notation going\n",
    "# positional argument cannot follow keyword arguments\n",
    "def func5(a, b, *args):\n",
    "    print(a, b, args)"
   ]
  },
  {
   "cell_type": "code",
   "execution_count": 51,
   "metadata": {
    "ExecuteTime": {
     "end_time": "2019-12-22T03:56:13.160366Z",
     "start_time": "2019-12-22T03:56:13.156791Z"
    }
   },
   "outputs": [
    {
     "name": "stdout",
     "output_type": "stream",
     "text": [
      "1 3 (4, 5, 6, 7, 9)\n"
     ]
    }
   ],
   "source": [
    "func5(1, 3, 4, 5, 6, 7, 9)"
   ]
  },
  {
   "cell_type": "code",
   "execution_count": 54,
   "metadata": {
    "ExecuteTime": {
     "end_time": "2019-12-22T03:57:00.030637Z",
     "start_time": "2019-12-22T03:57:00.027065Z"
    }
   },
   "outputs": [
    {
     "ename": "SyntaxError",
     "evalue": "positional argument follows keyword argument (<ipython-input-54-950d3794cd1c>, line 1)",
     "output_type": "error",
     "traceback": [
      "\u001b[0;36m  File \u001b[0;32m\"<ipython-input-54-950d3794cd1c>\"\u001b[0;36m, line \u001b[0;32m1\u001b[0m\n\u001b[0;31m    func5(a=1, b=4, 5, 6, 7)\u001b[0m\n\u001b[0m                   ^\u001b[0m\n\u001b[0;31mSyntaxError\u001b[0m\u001b[0;31m:\u001b[0m positional argument follows keyword argument\n"
     ]
    }
   ],
   "source": [
    "func5(a=1, b=4, 5, 6, 7)"
   ]
  },
  {
   "cell_type": "code",
   "execution_count": 62,
   "metadata": {
    "ExecuteTime": {
     "end_time": "2019-12-22T04:11:22.190177Z",
     "start_time": "2019-12-22T04:11:22.186112Z"
    }
   },
   "outputs": [
    {
     "name": "stdout",
     "output_type": "stream",
     "text": [
      "4/5/6\n",
      "Default sep is space 4 6 7\n",
      "----------\n",
      "3\n",
      "5\n",
      "6***"
     ]
    }
   ],
   "source": [
    "# lets over write sep keyword argument in print function\n",
    "print(4, 5, 6, sep = '/')\n",
    "print('Default sep is space', 4 , 6, 7)\n",
    "print('-'*10)\n",
    "print(3, 5, 6, sep ='\\n', end='***')"
   ]
  },
  {
   "cell_type": "code",
   "execution_count": 73,
   "metadata": {
    "ExecuteTime": {
     "end_time": "2019-12-22T04:21:40.764309Z",
     "start_time": "2019-12-22T04:21:40.760410Z"
    }
   },
   "outputs": [],
   "source": [
    "def calc_hi_lo_avg(*args, log_to_console=False):\n",
    "    # if positional arg not entered return 0 for high\n",
    "    # if positional arg entered return true and max of them\n",
    "    hi = int(bool(args)) and max(args)\n",
    "    # the same logic above is alternatively down below\n",
    "    if len(args) == 0:\n",
    "        lo = 0\n",
    "    else:\n",
    "        lo = min(args)\n",
    "    avg = (hi + lo) / 2\n",
    "    if log_to_console:\n",
    "        print('high={} \\n low={} \\n avg={}'.format(hi, lo, avg))\n",
    "    return avg\n",
    "    "
   ]
  },
  {
   "cell_type": "code",
   "execution_count": 74,
   "metadata": {
    "ExecuteTime": {
     "end_time": "2019-12-22T04:21:41.562436Z",
     "start_time": "2019-12-22T04:21:41.558317Z"
    }
   },
   "outputs": [
    {
     "name": "stdout",
     "output_type": "stream",
     "text": [
      "high=0 \n",
      " low=0 \n",
      " avg=0.0\n"
     ]
    },
    {
     "data": {
      "text/plain": [
       "0.0"
      ]
     },
     "execution_count": 74,
     "metadata": {},
     "output_type": "execute_result"
    }
   ],
   "source": [
    "calc_hi_lo_avg(log_to_console=True)"
   ]
  },
  {
   "cell_type": "code",
   "execution_count": 78,
   "metadata": {
    "ExecuteTime": {
     "end_time": "2019-12-22T04:49:22.863872Z",
     "start_time": "2019-12-22T04:49:22.858442Z"
    }
   },
   "outputs": [
    {
     "name": "stdout",
     "output_type": "stream",
     "text": [
      "high=7 \n",
      " low=1 \n",
      " avg=4.0\n"
     ]
    },
    {
     "data": {
      "text/plain": [
       "4.0"
      ]
     },
     "execution_count": 78,
     "metadata": {},
     "output_type": "execute_result"
    }
   ],
   "source": [
    "numbers = [1, 3, 4, 6, 7, 2]\n",
    "calc_hi_lo_avg(*numbers, log_to_console=True)"
   ]
  },
  {
   "cell_type": "code",
   "execution_count": 79,
   "metadata": {
    "ExecuteTime": {
     "end_time": "2019-12-22T04:49:23.242299Z",
     "start_time": "2019-12-22T04:49:23.239017Z"
    }
   },
   "outputs": [
    {
     "name": "stdout",
     "output_type": "stream",
     "text": [
      "4.0\n"
     ]
    }
   ],
   "source": [
    "print(calc_hi_lo_avg(*numbers))"
   ]
  },
  {
   "cell_type": "code",
   "execution_count": 80,
   "metadata": {
    "ExecuteTime": {
     "end_time": "2019-12-22T04:49:23.814517Z",
     "start_time": "2019-12-22T04:49:23.811536Z"
    }
   },
   "outputs": [
    {
     "name": "stdout",
     "output_type": "stream",
     "text": [
      "4.0\n"
     ]
    }
   ],
   "source": [
    "avg = calc_hi_lo_avg(*numbers)\n",
    "print(avg)"
   ]
  },
  {
   "cell_type": "markdown",
   "metadata": {},
   "source": [
    "# Function Timer"
   ]
  },
  {
   "cell_type": "code",
   "execution_count": 81,
   "metadata": {
    "ExecuteTime": {
     "end_time": "2019-12-22T04:50:36.686457Z",
     "start_time": "2019-12-22T04:50:36.680973Z"
    }
   },
   "outputs": [],
   "source": [
    "import time\n",
    "\n",
    "\n",
    "def time_it(fn, *args, **kwargs):\n",
    "    print(args, kwargs)"
   ]
  },
  {
   "cell_type": "code",
   "execution_count": 82,
   "metadata": {
    "ExecuteTime": {
     "end_time": "2019-12-22T04:52:08.421284Z",
     "start_time": "2019-12-22T04:52:08.417385Z"
    }
   },
   "outputs": [
    {
     "name": "stdout",
     "output_type": "stream",
     "text": [
      "(1, 2, 4) {'sep': ' - ', 'end': ' ***'}\n"
     ]
    }
   ],
   "source": [
    "time_it(print, 1, 2, 4, sep=' - ', end=' ***')"
   ]
  },
  {
   "cell_type": "code",
   "execution_count": 83,
   "metadata": {
    "ExecuteTime": {
     "end_time": "2019-12-22T04:53:00.228684Z",
     "start_time": "2019-12-22T04:53:00.225971Z"
    }
   },
   "outputs": [],
   "source": [
    "# if you wish to run print function in time_it\n",
    "def time_it(fn, *args, **kwargs):\n",
    "    fn(*args, **kwargs)"
   ]
  },
  {
   "cell_type": "code",
   "execution_count": 84,
   "metadata": {
    "ExecuteTime": {
     "end_time": "2019-12-22T04:53:08.093868Z",
     "start_time": "2019-12-22T04:53:08.090205Z"
    }
   },
   "outputs": [
    {
     "name": "stdout",
     "output_type": "stream",
     "text": [
      "1 - 2 - 4 ***"
     ]
    }
   ],
   "source": [
    "time_it(print, 1, 2, 4, sep=' - ', end=' ***')"
   ]
  },
  {
   "cell_type": "code",
   "execution_count": 110,
   "metadata": {
    "ExecuteTime": {
     "end_time": "2019-12-22T05:11:42.848693Z",
     "start_time": "2019-12-22T05:11:42.844671Z"
    }
   },
   "outputs": [],
   "source": [
    "# if you wish to run print function in time_it\n",
    "def time_it(fn, *args, rep=1, **kwargs):\n",
    "    print(args, kwargs, rep)\n",
    "    start = time.perf_counter()\n",
    "    for i in range(rep):\n",
    "        fn(*args, **kwargs)\n",
    "    end = time.perf_counter()\n",
    "    return (end - start) / rep"
   ]
  },
  {
   "cell_type": "code",
   "execution_count": 111,
   "metadata": {
    "ExecuteTime": {
     "end_time": "2019-12-22T05:11:43.862304Z",
     "start_time": "2019-12-22T05:11:43.857416Z"
    }
   },
   "outputs": [
    {
     "name": "stdout",
     "output_type": "stream",
     "text": [
      "(1, 2, 4) {'sep': ' - ', 'end': '\\n'} 5\n",
      "1 - 2 - 4\n",
      "1 - 2 - 4\n",
      "1 - 2 - 4\n",
      "1 - 2 - 4\n",
      "1 - 2 - 4\n"
     ]
    },
    {
     "data": {
      "text/plain": [
       "3.313220004201867e-05"
      ]
     },
     "execution_count": 111,
     "metadata": {},
     "output_type": "execute_result"
    }
   ],
   "source": [
    "time_it(print, 1, 2, 4, sep=' - ', end='\\n', rep=5)"
   ]
  },
  {
   "cell_type": "code",
   "execution_count": 112,
   "metadata": {
    "ExecuteTime": {
     "end_time": "2019-12-22T05:11:55.798018Z",
     "start_time": "2019-12-22T05:11:55.793933Z"
    }
   },
   "outputs": [],
   "source": [
    "def compute_powers(n, *, start=1, end):\n",
    "    results = []\n",
    "    for i in range(start, end):\n",
    "        results.append(n**i)\n",
    "    return results"
   ]
  },
  {
   "cell_type": "code",
   "execution_count": 113,
   "metadata": {
    "ExecuteTime": {
     "end_time": "2019-12-22T05:11:56.956545Z",
     "start_time": "2019-12-22T05:11:56.953094Z"
    }
   },
   "outputs": [
    {
     "data": {
      "text/plain": [
       "[3, 9, 27, 81]"
      ]
     },
     "execution_count": 113,
     "metadata": {},
     "output_type": "execute_result"
    }
   ],
   "source": [
    "compute_powers(3, end=5)"
   ]
  },
  {
   "cell_type": "code",
   "execution_count": 114,
   "metadata": {
    "ExecuteTime": {
     "end_time": "2019-12-22T05:12:11.969896Z",
     "start_time": "2019-12-22T05:12:01.756715Z"
    }
   },
   "outputs": [
    {
     "name": "stdout",
     "output_type": "stream",
     "text": [
      "() {'n': 2, 'start': 0, 'end': 100000} 1\n"
     ]
    },
    {
     "data": {
      "text/plain": [
       "10.208718851999947"
      ]
     },
     "execution_count": 114,
     "metadata": {},
     "output_type": "execute_result"
    }
   ],
   "source": [
    "time_it(compute_powers, n=2, start=0, end=100000, rep=1)"
   ]
  },
  {
   "cell_type": "code",
   "execution_count": 115,
   "metadata": {
    "ExecuteTime": {
     "end_time": "2019-12-22T05:12:13.730537Z",
     "start_time": "2019-12-22T05:12:13.727706Z"
    }
   },
   "outputs": [],
   "source": [
    "def compute_powers_generator(n, *, start=1, end):\n",
    "    return (n**i for i in range(start, end))"
   ]
  },
  {
   "cell_type": "code",
   "execution_count": 116,
   "metadata": {
    "ExecuteTime": {
     "end_time": "2019-12-22T05:12:15.431074Z",
     "start_time": "2019-12-22T05:12:15.426717Z"
    }
   },
   "outputs": [
    {
     "name": "stdout",
     "output_type": "stream",
     "text": [
      "(2,) {'start': 0, 'end': 100000} 1\n"
     ]
    },
    {
     "data": {
      "text/plain": [
       "5.573000635195058e-06"
      ]
     },
     "execution_count": 116,
     "metadata": {},
     "output_type": "execute_result"
    }
   ],
   "source": [
    "time_it(compute_powers_generator, 2, start=0, end=100000)"
   ]
  },
  {
   "cell_type": "code",
   "execution_count": null,
   "metadata": {},
   "outputs": [],
   "source": []
  }
 ],
 "metadata": {
  "kernelspec": {
   "display_name": "Python 3",
   "language": "python",
   "name": "python3"
  },
  "language_info": {
   "codemirror_mode": {
    "name": "ipython",
    "version": 3
   },
   "file_extension": ".py",
   "mimetype": "text/x-python",
   "name": "python",
   "nbconvert_exporter": "python",
   "pygments_lexer": "ipython3",
   "version": "3.7.5"
  },
  "toc": {
   "base_numbering": 1,
   "nav_menu": {},
   "number_sections": true,
   "sideBar": true,
   "skip_h1_title": false,
   "title_cell": "Table of Contents",
   "title_sidebar": "Contents",
   "toc_cell": false,
   "toc_position": {},
   "toc_section_display": true,
   "toc_window_display": false
  }
 },
 "nbformat": 4,
 "nbformat_minor": 2
}
