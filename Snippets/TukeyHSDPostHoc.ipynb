{
 "cells": [
  {
   "cell_type": "code",
   "execution_count": 26,
   "metadata": {
    "ExecuteTime": {
     "end_time": "2020-02-16T06:55:47.557744Z",
     "start_time": "2020-02-16T06:55:47.554951Z"
    }
   },
   "outputs": [],
   "source": [
    "import pandas as pd\n",
    "import numpy as np\n",
    "import statsmodels.stats.multicomp as multi\n",
    "import statsmodels.formula.api as smf"
   ]
  },
  {
   "cell_type": "code",
   "execution_count": 8,
   "metadata": {
    "ExecuteTime": {
     "end_time": "2020-02-16T05:36:27.194518Z",
     "start_time": "2020-02-16T05:35:48.909788Z"
    }
   },
   "outputs": [],
   "source": [
    "# nesarc = 'https://d18ky98rnyall9.cloudfront.net/_cf16dab6c94262cc58a6bd4e0f753e56_nesarc_pds.csv?Expires=1581984000&Signature=Ur-iAfRV4~9PdDRQW15BB7nMwWNZJT3eLKgaR8Xg56Y6ysNuHpexkKSGqY45t0NWgGA-GntegmfT3sihNbaGzRnZukYNMNd4cR2DfgGnnIfzxteor5K0Sokowae9pkdkbc~X2IDg0JFp-8nehOuS-89iMcAMVDWhBISDZEq5IXE_&Key-Pair-Id=APKAJLTNE6QMUY6HBC5A'\n",
    "# nesarc_data =pd.read_csv(nesarc)\n",
    "nesarc_data.to_csv('data/nesarcdata.csv', index=False)"
   ]
  },
  {
   "cell_type": "code",
   "execution_count": 6,
   "metadata": {
    "ExecuteTime": {
     "end_time": "2020-02-16T05:35:34.360594Z",
     "start_time": "2020-02-16T05:35:34.351862Z"
    }
   },
   "outputs": [
    {
     "data": {
      "text/plain": [
       "(43093, 3008)"
      ]
     },
     "execution_count": 6,
     "metadata": {},
     "output_type": "execute_result"
    }
   ],
   "source": [
    "nesarc_data.shape"
   ]
  },
  {
   "cell_type": "code",
   "execution_count": 9,
   "metadata": {
    "ExecuteTime": {
     "end_time": "2020-02-16T05:37:37.467129Z",
     "start_time": "2020-02-16T05:37:13.074731Z"
    }
   },
   "outputs": [
    {
     "name": "stderr",
     "output_type": "stream",
     "text": [
      "/Users/royalshoulders/.virtualenvs/PYTHON/lib/python3.7/site-packages/IPython/core/interactiveshell.py:3051: DtypeWarning: Columns (8,11,22,65,134,135,177,205,206,207,208,346,366,523,532,533,753,755,756,842,843,847,848,849,856,885,886,887,888,889,890,891,892,893,894,895,896,897,898,899,900,901,902,903,904,905,906,908,909,910,911,912,913,914,915,916,917,918,919,920,921,922,923,924,925,926,927,928,929,930,931,932,933,934,935,936,937,938,939,940,941,942,943,944,945,946,966,967,974,979,980,982,986,987,989,991,992,994,1010,1035,1036,1037,1038,1039,1040,1041,1042,1043,1044,1045,1046,1047,1048,1049,1050,1051,1052,1053,1073,1075,1078,1079,1080,1081,1084,1085,1086,1087,1088,1091,1092,1093,1094,1095,1097,1098,1099,1119,1141,1142,1143,1144,1145,1146,1147,1148,1149,1150,1151,1152,1153,1154,1155,1156,1157,1158,1159,1160,1161,1162,1163,1164,1184,1185,1186,1187,1190,1191,1192,1193,1194,1197,1198,1199,1200,1201,1219,1221,1222,1235,1236,1237,1238,1239,1240,1262,1263,1264,1265,1266,1267,1268,1269,1270,1271,1272,1273,1274,1275,1276,1277,1278,1279,1280,1281,1282,1283,1284,1285,1286,1300,1302,1383,1384,1389,1390,1406,1407,1408,1409,1410,1411,1433,1434,1435,1436,1437,1438,1439,1440,1441,1442,1443,1444,1445,1446,1447,1448,1449,1450,1451,1452,1453,1454,1455,1456,1457,1458,1459,1460,1476,1477,1478,1479,1482,1483,1484,1485,1486,1489,1490,1491,1492,1493,1554,1555,1582,1604,1605,1606,1607,1608,1609,1610,1611,1612,1613,1614,1615,1616,1617,1618,1619,1620,1621,1622,1623,1624,1625,1626,1627,1628,1629,1630,1631,1632,1633,1634,1635,1636,1637,1638,1639,1647,1648,1649,1650,1653,1654,1655,1656,1657,1660,1661,1662,1663,1664,1725,1726,1757,1758,1759,1785,1786,1787,1788,1789,1790,1791,1792,1793,1794,1795,1796,1797,1875,1876,1877,1885,1886,1887,2011,2012,2013,2021,2022,2023,2024,2025,2026,2027,2028,2029,2030,2031,2032,2033,2034,2120,2121,2122,2123,2124,2125,2126,2127,2128,2129,2130,2131,2132,2133,2134,2135,2136,2137,2138,2139,2140,2141,2142,2143,2144,2145,2146,2147,2148,2149,2150,2151,2152,2153,2154,2155,2156,2157,2158,2159,2160,2161,2162,2163,2164,2165,2166,2167,2168,2169,2170,2171,2172,2173,2174,2175,2176,2177,2178,2179,2180,2181,2182,2183,2184,2185,2186,2187,2188,2189,2190,2191,2192,2193,2194,2195,2196,2197,2198,2199,2200,2201,2202,2203,2204,2205,2206,2207,2208,2209,2210,2211,2212,2213,2214,2215,2216,2217,2218,2219,2220,2221,2222,2223,2224,2225,2226) have mixed types. Specify dtype option on import or set low_memory=False.\n",
      "  interactivity=interactivity, compiler=compiler, result=result)\n"
     ]
    }
   ],
   "source": [
    "addhealth_pds = 'https://d18ky98rnyall9.cloudfront.net/_e9d2d409bf11bb736eb1bd355871c3f6_addhealth_pds.csv?Expires=1581984000&Signature=IFDwyERCk10vX5YmE8HgyaEsUmJR2PCF939KdjZIeaqW4dCd2duQYtcJJFaQoQuGPIuyAob9BO6mwbjakbzoJPd-Sev9G0HNAChSLrKGRW~NNjIKICcrKQjmcXeGQfrsZGaN2S6Fz~sgYrgCgG3T9LD~IkggP9y1VEGhroGLy3U_&Key-Pair-Id=APKAJLTNE6QMUY6HBC5A'\n",
    "addhealth_pds_data = pd.read_csv(addhealth_pds)\n",
    "addhealth_pds_data.to_csv('data/addhealthpds.csv', index=False)"
   ]
  },
  {
   "cell_type": "code",
   "execution_count": 22,
   "metadata": {
    "ExecuteTime": {
     "end_time": "2020-02-16T05:53:55.214182Z",
     "start_time": "2020-02-16T05:53:52.496732Z"
    }
   },
   "outputs": [],
   "source": [
    "nesarc_data['S3AQ3B1'] = pd.to_numeric(nesarc_data['S3AQ3B1'], errors='coerce')\n",
    "nesarc_data['S3AQ3C1'] = pd.to_numeric(nesarc_data['S3AQ3C1'], errors='coerce')\n",
    "nesarc_data['CHECK321'] = pd.to_numeric(nesarc_data['CHECK321'], errors='coerce')"
   ]
  },
  {
   "cell_type": "code",
   "execution_count": 32,
   "metadata": {
    "ExecuteTime": {
     "end_time": "2020-02-16T07:05:44.157609Z",
     "start_time": "2020-02-16T07:05:43.972146Z"
    }
   },
   "outputs": [],
   "source": [
    "# subset data to young adults age 18 to 25 who have smoked in the past 12 months\n",
    "sub1 = nesarc_data[(nesarc_data['AGE'] >= 18) & \n",
    "                  (nesarc_data['AGE'] <= 25) &\n",
    "                  (nesarc_data['CHECK321'] == 1)].copy()"
   ]
  },
  {
   "cell_type": "code",
   "execution_count": 33,
   "metadata": {
    "ExecuteTime": {
     "end_time": "2020-02-16T07:05:59.356326Z",
     "start_time": "2020-02-16T07:05:59.351695Z"
    }
   },
   "outputs": [],
   "source": [
    "# setting missing data\n",
    "sub1['S3AQ3B1'] = sub1['S3AQ3B1'].replace(9, np.nan)\n",
    "# setting missing data\n",
    "sub1['S3AQ3C1'] = sub1['S3AQ3C1'].replace(99, np.nan)"
   ]
  },
  {
   "cell_type": "code",
   "execution_count": 34,
   "metadata": {
    "ExecuteTime": {
     "end_time": "2020-02-16T07:06:01.382421Z",
     "start_time": "2020-02-16T07:06:01.376506Z"
    }
   },
   "outputs": [],
   "source": [
    "# recoding number of days smoked in the past months\n",
    "recode1 = {1: 30, 2:22, 3: 14, 4: 5, 5:2.5, 6:1}\n",
    "sub1['USFREQMO'] = sub1['S3AQ3B1'].map(recode1)\n",
    "sub1['USFREQMO'] = pd.to_numeric(sub1['USFREQMO'], errors='coerce')"
   ]
  },
  {
   "cell_type": "code",
   "execution_count": 38,
   "metadata": {
    "ExecuteTime": {
     "end_time": "2020-02-16T07:26:04.236135Z",
     "start_time": "2020-02-16T07:26:04.231961Z"
    }
   },
   "outputs": [],
   "source": [
    "# create a secondary variable multiplying the days smoked/month and the number of cig/per day = total cig per month\n",
    "sub1['NUMCIGMO_EST'] = sub1['USFREQMO'] * sub1['S3AQ3C1']\n",
    "sub1['NUMCIGMO_EST'] = pd.to_numeric(sub1['NUMCIGMO_EST'], errors='coerce')"
   ]
  },
  {
   "cell_type": "markdown",
   "metadata": {},
   "source": [
    "# ANOVA 2 LEVEL"
   ]
  },
  {
   "cell_type": "code",
   "execution_count": 40,
   "metadata": {
    "ExecuteTime": {
     "end_time": "2020-02-16T07:28:08.771428Z",
     "start_time": "2020-02-16T07:28:08.728719Z"
    }
   },
   "outputs": [
    {
     "name": "stdout",
     "output_type": "stream",
     "text": [
      "                            OLS Regression Results                            \n",
      "==============================================================================\n",
      "Dep. Variable:           NUMCIGMO_EST   R-squared:                       0.002\n",
      "Model:                            OLS   Adj. R-squared:                  0.002\n",
      "Method:                 Least Squares   F-statistic:                     3.550\n",
      "Date:                Sun, 16 Feb 2020   Prob (F-statistic):             0.0597\n",
      "Time:                        01:28:08   Log-Likelihood:                -11934.\n",
      "No. Observations:                1697   AIC:                         2.387e+04\n",
      "Df Residuals:                    1695   BIC:                         2.388e+04\n",
      "Df Model:                           1                                         \n",
      "Covariance Type:            nonrobust                                         \n",
      "========================================================================================\n",
      "                           coef    std err          t      P>|t|      [0.025      0.975]\n",
      "----------------------------------------------------------------------------------------\n",
      "Intercept              312.8380      7.747     40.381      0.000     297.643     328.033\n",
      "C(MAJORDEPLIFE)[T.1]    28.5370     15.146      1.884      0.060      -1.169      58.243\n",
      "==============================================================================\n",
      "Omnibus:                      673.875   Durbin-Watson:                   1.982\n",
      "Prob(Omnibus):                  0.000   Jarque-Bera (JB):             5043.141\n",
      "Skew:                           1.672   Prob(JB):                         0.00\n",
      "Kurtosis:                      10.755   Cond. No.                         2.46\n",
      "==============================================================================\n",
      "\n",
      "Warnings:\n",
      "[1] Standard Errors assume that the covariance matrix of the errors is correctly specified.\n"
     ]
    }
   ],
   "source": [
    "model1 = smf.ols(formula='NUMCIGMO_EST ~ C(MAJORDEPLIFE)', data=sub1)\n",
    "results1 = model1.fit()\n",
    "print(results1.summary())"
   ]
  },
  {
   "cell_type": "code",
   "execution_count": 43,
   "metadata": {
    "ExecuteTime": {
     "end_time": "2020-02-16T07:35:13.196402Z",
     "start_time": "2020-02-16T07:35:13.185315Z"
    }
   },
   "outputs": [
    {
     "name": "stdout",
     "output_type": "stream",
     "text": [
      "means for numcigmo_est by major depression status\n",
      "              NUMCIGMO_EST\n",
      "MAJORDEPLIFE              \n",
      "0               312.837989\n",
      "1               341.375000\n"
     ]
    }
   ],
   "source": [
    "sub2 = sub1[['NUMCIGMO_EST', 'MAJORDEPLIFE']].dropna().copy()\n",
    "print('means for numcigmo_est by major depression status')\n",
    "means_numcigmo = sub2.groupby(['MAJORDEPLIFE']).mean()\n",
    "print(means_numcigmo)"
   ]
  },
  {
   "cell_type": "code",
   "execution_count": 44,
   "metadata": {
    "ExecuteTime": {
     "end_time": "2020-02-16T07:36:00.585299Z",
     "start_time": "2020-02-16T07:36:00.572112Z"
    }
   },
   "outputs": [
    {
     "name": "stdout",
     "output_type": "stream",
     "text": [
      "standard devs for numcigmo_est by major depression status\n",
      "              NUMCIGMO_EST\n",
      "MAJORDEPLIFE              \n",
      "0               269.002344\n",
      "1               288.495118\n"
     ]
    }
   ],
   "source": [
    "print('standard devs for numcigmo_est by major depression status')\n",
    "std_numcigmo = sub2.groupby(['MAJORDEPLIFE']).std()\n",
    "print(std_numcigmo)"
   ]
  },
  {
   "cell_type": "markdown",
   "metadata": {},
   "source": [
    "So, here I see that young adult smokers without major depression, as indicated by a value of zero, smoke an average of 312.8 cigarettes per month. And that those with major depression, indicated by a value of one, smoke on average, 341.4 cigarettes per month. Because the p-value is greater than 0.05, actually near 0.06, we can choose to accept the null hypothesis and say that these means are statistically equal. And that there is no association between the presence or absence of major depression and the number of cigarettes smoked per month, among young adult smokers. If I had chosen to reject the null hypothesis, I would be wrong nearly six out of a hundred times. And again, by normal scientific standards, this is not adequate certainty to reject the null hypothesis, and say that there is an association. Instead, we're going to accept the null hypothesis and say that there is no association. Had the p-value been less than .05? I would be more confident that there was a significant association.\n",
    "\n",
    "\n",
    "To interpret a significant association, I would look at the means table. If p would have been less than .05, I can see that the individuals with major depression smoke more than individuals without. And again, with a significant p-value I could have said that young adults smokers with major depression smoke signficantly more cigarettes per month than young adult smokers without major depression.\n",
    "\n",
    "you will also see a warning message regarding standard errors below the OLS table. Indicating that you can assume that the covariance matrix of the errors is correctly specified.This tells us that standard error estimates are valid. As long as the underlying assumptions about the errors in the OLS regression are met"
   ]
  },
  {
   "cell_type": "markdown",
   "metadata": {},
   "source": [
    "# ANOVA More than 2 levels"
   ]
  },
  {
   "cell_type": "code",
   "execution_count": 46,
   "metadata": {
    "ExecuteTime": {
     "end_time": "2020-02-16T07:46:49.791400Z",
     "start_time": "2020-02-16T07:46:49.755983Z"
    }
   },
   "outputs": [
    {
     "name": "stdout",
     "output_type": "stream",
     "text": [
      "                            OLS Regression Results                            \n",
      "==============================================================================\n",
      "Dep. Variable:           NUMCIGMO_EST   R-squared:                       0.055\n",
      "Model:                            OLS   Adj. R-squared:                  0.052\n",
      "Method:                 Least Squares   F-statistic:                     24.40\n",
      "Date:                Sun, 16 Feb 2020   Prob (F-statistic):           1.18e-19\n",
      "Time:                        01:46:49   Log-Likelihood:                -11888.\n",
      "No. Observations:                1697   AIC:                         2.379e+04\n",
      "Df Residuals:                    1692   BIC:                         2.381e+04\n",
      "Df Model:                           4                                         \n",
      "Covariance Type:            nonrobust                                         \n",
      "=====================================================================================\n",
      "                        coef    std err          t      P>|t|      [0.025      0.975]\n",
      "-------------------------------------------------------------------------------------\n",
      "Intercept           368.7865      8.229     44.814      0.000     352.646     384.927\n",
      "C(ETHRACE2A)[T.2]  -109.5127     20.189     -5.424      0.000    -149.111     -69.914\n",
      "C(ETHRACE2A)[T.3]   -57.7984     42.038     -1.375      0.169    -140.250      24.653\n",
      "C(ETHRACE2A)[T.4]  -124.5279     36.033     -3.456      0.001    -195.201     -53.854\n",
      "C(ETHRACE2A)[T.5]  -149.0283     16.795     -8.873      0.000    -181.969    -116.087\n",
      "==============================================================================\n",
      "Omnibus:                      712.397   Durbin-Watson:                   1.994\n",
      "Prob(Omnibus):                  0.000   Jarque-Bera (JB):             6548.614\n",
      "Skew:                           1.717   Prob(JB):                         0.00\n",
      "Kurtosis:                      11.990   Cond. No.                         6.72\n",
      "==============================================================================\n",
      "\n",
      "Warnings:\n",
      "[1] Standard Errors assume that the covariance matrix of the errors is correctly specified.\n"
     ]
    }
   ],
   "source": [
    "sub3 = sub1[['NUMCIGMO_EST', 'ETHRACE2A']].dropna().copy()\n",
    "\n",
    "model2 = smf.ols(formula= 'NUMCIGMO_EST ~ C(ETHRACE2A)', data=sub3)\n",
    "result2 = model2.fit()\n",
    "print(result2.summary())"
   ]
  },
  {
   "cell_type": "code",
   "execution_count": 48,
   "metadata": {
    "ExecuteTime": {
     "end_time": "2020-02-16T07:51:56.379343Z",
     "start_time": "2020-02-16T07:51:56.363781Z"
    }
   },
   "outputs": [
    {
     "data": {
      "text/html": [
       "<div>\n",
       "<style scoped>\n",
       "    .dataframe tbody tr th:only-of-type {\n",
       "        vertical-align: middle;\n",
       "    }\n",
       "\n",
       "    .dataframe tbody tr th {\n",
       "        vertical-align: top;\n",
       "    }\n",
       "\n",
       "    .dataframe thead th {\n",
       "        text-align: right;\n",
       "    }\n",
       "</style>\n",
       "<table border=\"1\" class=\"dataframe\">\n",
       "  <thead>\n",
       "    <tr style=\"text-align: right;\">\n",
       "      <th></th>\n",
       "      <th>NUMCIGMO_EST</th>\n",
       "    </tr>\n",
       "    <tr>\n",
       "      <th>ETHRACE2A</th>\n",
       "      <th></th>\n",
       "    </tr>\n",
       "  </thead>\n",
       "  <tbody>\n",
       "    <tr>\n",
       "      <th>1</th>\n",
       "      <td>368.786528</td>\n",
       "    </tr>\n",
       "    <tr>\n",
       "      <th>2</th>\n",
       "      <td>259.273810</td>\n",
       "    </tr>\n",
       "    <tr>\n",
       "      <th>3</th>\n",
       "      <td>310.988095</td>\n",
       "    </tr>\n",
       "    <tr>\n",
       "      <th>4</th>\n",
       "      <td>244.258621</td>\n",
       "    </tr>\n",
       "    <tr>\n",
       "      <th>5</th>\n",
       "      <td>219.758258</td>\n",
       "    </tr>\n",
       "  </tbody>\n",
       "</table>\n",
       "</div>"
      ],
      "text/plain": [
       "           NUMCIGMO_EST\n",
       "ETHRACE2A              \n",
       "1            368.786528\n",
       "2            259.273810\n",
       "3            310.988095\n",
       "4            244.258621\n",
       "5            219.758258"
      ]
     },
     "execution_count": 48,
     "metadata": {},
     "output_type": "execute_result"
    }
   ],
   "source": [
    "means_numcigmo2 = sub3.groupby(['ETHRACE2A']).mean()\n",
    "means_numcigmo2"
   ]
  },
  {
   "cell_type": "markdown",
   "metadata": {},
   "source": [
    "The F-test and the p-value do not provide insight into why the null hypothesis can be rejected because there are multiple levels to my categorical explanatory variable. They do not tell us in what way the population means are not statistically equal. \n"
   ]
  },
  {
   "cell_type": "markdown",
   "metadata": {},
   "source": [
    "# Tukey HSD for more than 2 level"
   ]
  },
  {
   "cell_type": "code",
   "execution_count": 49,
   "metadata": {
    "ExecuteTime": {
     "end_time": "2020-02-16T07:56:37.357766Z",
     "start_time": "2020-02-16T07:56:37.355344Z"
    }
   },
   "outputs": [],
   "source": [
    "import statsmodels.stats.multicomp as multi"
   ]
  },
  {
   "cell_type": "code",
   "execution_count": 50,
   "metadata": {
    "ExecuteTime": {
     "end_time": "2020-02-16T07:57:58.761959Z",
     "start_time": "2020-02-16T07:57:58.639672Z"
    }
   },
   "outputs": [
    {
     "name": "stdout",
     "output_type": "stream",
     "text": [
      "   Multiple Comparison of Means - Tukey HSD, FWER=0.05   \n",
      "=========================================================\n",
      "group1 group2  meandiff p-adj    lower     upper   reject\n",
      "---------------------------------------------------------\n",
      "     1      2 -109.5127  0.001 -164.6441  -54.3814   True\n",
      "     1      3  -57.7984 0.6251 -172.5914   56.9945  False\n",
      "     1      4 -124.5279 0.0051 -222.9229  -26.1329   True\n",
      "     1      5 -149.0283  0.001   -194.89 -103.1665   True\n",
      "     2      3   51.7143 0.7555  -71.6021  175.0307  False\n",
      "     2      4  -15.0152    0.9  -123.233   93.2026  False\n",
      "     2      5  -39.5156 0.4492 -103.8025   24.7714  False\n",
      "     3      4  -66.7295 0.7058 -214.5437   81.0848  False\n",
      "     3      5  -91.2298 0.2269 -210.6902   28.2305  False\n",
      "     4      5  -24.5004    0.9 -128.3027    79.302  False\n",
      "---------------------------------------------------------\n"
     ]
    }
   ],
   "source": [
    "mc1 = multi.MultiComparison(sub3['NUMCIGMO_EST'], sub3['ETHRACE2A'])\n",
    "result3 = mc1.tukeyhsd()\n",
    "print(result3.summary())"
   ]
  },
  {
   "cell_type": "markdown",
   "metadata": {},
   "source": [
    "differences in smoking quantity for each ethnic group pair. In the first row of the table, we see the comparison between ethnic group one and two. Individuals endorsing white ethnicity versus those endorsing black ethnicity. As well as mean differences in number of cigarettes smoked between these two groups. Python has calculated a P value, though it is not displayed, that takes the multiple comparisons into consideration and protects us from inflating our type 1 error and rejecting the null hypothesis when the null hypothesis is true.\n",
    "\n",
    "So we can see that ethnic group one is significantly different than ethnic groups two, four, and five. And when we again examine group means, we can say that individuals endorsing white ethnicity, group one, smoke significantly more cigarettes per month, than individuals endorsing black, asian and hispanic ethnicity. Groups two, four and five."
   ]
  },
  {
   "cell_type": "code",
   "execution_count": null,
   "metadata": {},
   "outputs": [],
   "source": []
  }
 ],
 "metadata": {
  "kernelspec": {
   "display_name": "Python 3",
   "language": "python",
   "name": "python3"
  },
  "language_info": {
   "codemirror_mode": {
    "name": "ipython",
    "version": 3
   },
   "file_extension": ".py",
   "mimetype": "text/x-python",
   "name": "python",
   "nbconvert_exporter": "python",
   "pygments_lexer": "ipython3",
   "version": "3.7.5"
  },
  "toc": {
   "base_numbering": 1,
   "nav_menu": {},
   "number_sections": true,
   "sideBar": true,
   "skip_h1_title": false,
   "title_cell": "Table of Contents",
   "title_sidebar": "Contents",
   "toc_cell": false,
   "toc_position": {},
   "toc_section_display": true,
   "toc_window_display": false
  }
 },
 "nbformat": 4,
 "nbformat_minor": 2
}
