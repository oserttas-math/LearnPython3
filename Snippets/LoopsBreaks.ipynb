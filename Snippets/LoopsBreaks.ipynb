{
 "cells": [
  {
   "cell_type": "markdown",
   "metadata": {},
   "source": [
    "# While"
   ]
  },
  {
   "cell_type": "code",
   "execution_count": 2,
   "metadata": {
    "ExecuteTime": {
     "end_time": "2019-12-15T19:55:52.051275Z",
     "start_time": "2019-12-15T19:55:34.815673Z"
    }
   },
   "outputs": [
    {
     "name": "stdout",
     "output_type": "stream",
     "text": [
      "Please enter your name: 1\n",
      "Please enter your name: 4\n",
      "Please enter your name: 4\n",
      "Please enter your name: 09\n",
      "Please enter your name: a\n",
      "Please enter your name: b\n",
      "Please enter your name: alibaba\n",
      "Hello, alibaba\n"
     ]
    }
   ],
   "source": [
    "MIN_LEN = 2\n",
    "\n",
    "while True:\n",
    "    name = input('Please enter your name: ')\n",
    "    if len(name) >= MIN_LEN and name.isprintable() and name.isalpha():\n",
    "        break\n",
    "print('Hello, {}'.format(name))"
   ]
  },
  {
   "cell_type": "code",
   "execution_count": 4,
   "metadata": {
    "ExecuteTime": {
     "end_time": "2019-12-15T19:57:45.549371Z",
     "start_time": "2019-12-15T19:57:45.545400Z"
    }
   },
   "outputs": [
    {
     "name": "stdout",
     "output_type": "stream",
     "text": [
      "1\n",
      "3\n",
      "5\n",
      "7\n",
      "9\n"
     ]
    }
   ],
   "source": [
    "# get odd numbers with a continue statement in while loop\n",
    "a = 0\n",
    "\n",
    "while a < 10:\n",
    "    a+=1\n",
    "    \n",
    "    if a % 2 == 0:\n",
    "        continue\n",
    "    print(a)"
   ]
  },
  {
   "cell_type": "markdown",
   "metadata": {},
   "source": [
    "# Else"
   ]
  },
  {
   "cell_type": "code",
   "execution_count": 34,
   "metadata": {
    "ExecuteTime": {
     "end_time": "2019-12-15T20:23:42.014683Z",
     "start_time": "2019-12-15T20:23:42.009884Z"
    }
   },
   "outputs": [
    {
     "name": "stdout",
     "output_type": "stream",
     "text": [
      "found: False\n",
      "found: False\n",
      "found: False\n",
      "in loop found: True\n"
     ]
    }
   ],
   "source": [
    "l = [1, 2, 3, 10]\n",
    "VAL = 10\n",
    "\n",
    "found = False\n",
    "idx = 0\n",
    "\n",
    "while idx < len(l):\n",
    "    if l[idx] == VAL:\n",
    "        found = True\n",
    "        print('in loop found: {}'.format(found))\n",
    "        break\n",
    "    print('found: {}'.format(found))\n",
    "    idx += 1\n",
    "if not found:\n",
    "    l.append(VAL)"
   ]
  },
  {
   "cell_type": "code",
   "execution_count": 41,
   "metadata": {
    "ExecuteTime": {
     "end_time": "2019-12-15T20:27:23.040018Z",
     "start_time": "2019-12-15T20:27:23.035754Z"
    }
   },
   "outputs": [
    {
     "name": "stdout",
     "output_type": "stream",
     "text": [
      "break did not hit; VAL not found\n",
      "break did not hit; VAL not found\n",
      "break did not hit; VAL not found\n"
     ]
    }
   ],
   "source": [
    "l = [1, 2, 3]\n",
    "VAL = 10\n",
    "idx = 0\n",
    "\n",
    "while idx < len(l):\n",
    "    if l[idx] == VAL:\n",
    "        break\n",
    "    print('break did not hit; VAL not found')\n",
    "    idx += 1\n",
    "    \n",
    "else:\n",
    "    l.append(VAL)"
   ]
  },
  {
   "cell_type": "markdown",
   "metadata": {
    "ExecuteTime": {
     "end_time": "2019-12-15T20:27:06.107435Z",
     "start_time": "2019-12-15T20:27:06.103768Z"
    }
   },
   "source": [
    "# Break, Continue and Finally"
   ]
  },
  {
   "cell_type": "code",
   "execution_count": 46,
   "metadata": {
    "ExecuteTime": {
     "end_time": "2019-12-15T20:45:06.339928Z",
     "start_time": "2019-12-15T20:45:06.336400Z"
    }
   },
   "outputs": [
    {
     "name": "stdout",
     "output_type": "stream",
     "text": [
      "division by 0\n",
      "this always executes\n"
     ]
    }
   ],
   "source": [
    "a = 10\n",
    "b = 0\n",
    "\n",
    "try:\n",
    "    a/b\n",
    "except ZeroDivisionError:\n",
    "    print('division by 0')\n",
    "finally:\n",
    "    print('this always executes')"
   ]
  },
  {
   "cell_type": "code",
   "execution_count": 55,
   "metadata": {
    "ExecuteTime": {
     "end_time": "2019-12-15T20:47:37.085700Z",
     "start_time": "2019-12-15T20:47:37.080693Z"
    }
   },
   "outputs": [
    {
     "name": "stdout",
     "output_type": "stream",
     "text": [
      "--------------------------------------------------\n",
      "1, 2 - finally this always executes\n",
      "1, 2 - main loop run\n",
      "--------------------------------------------------\n",
      "2, 1 - finally this always executes\n",
      "2, 1 - main loop run\n",
      "--------------------------------------------------\n",
      "3, 0 - exception: division by 0\n",
      "3, 0 - finally this always executes\n",
      "--------------------------------------------------\n",
      "4, -1 - finally this always executes\n",
      "4, -1 - main loop run\n"
     ]
    }
   ],
   "source": [
    "a = 0\n",
    "b = 3\n",
    "\n",
    "while a < 4:\n",
    "    print(50*'-')\n",
    "    a += 1\n",
    "    b -= 1\n",
    "    \n",
    "    try:\n",
    "        a/b\n",
    "    except ZeroDivisionError:\n",
    "        print('{}, {} - exception: division by 0'.format(a, b))\n",
    "        continue\n",
    "    finally:\n",
    "        print('{}, {} - finally this always executes'.format(a, b))\n",
    "    \n",
    "    print('{}, {} - main loop run'.format(a, b))"
   ]
  },
  {
   "cell_type": "code",
   "execution_count": 56,
   "metadata": {
    "ExecuteTime": {
     "end_time": "2019-12-15T21:03:22.888110Z",
     "start_time": "2019-12-15T21:03:22.879766Z"
    }
   },
   "outputs": [
    {
     "name": "stdout",
     "output_type": "stream",
     "text": [
      "--------------------------------------------------\n",
      "1, 2 - finally this always executes\n",
      "1, 2 - main loop run\n",
      "--------------------------------------------------\n",
      "2, 1 - finally this always executes\n",
      "2, 1 - main loop run\n",
      "--------------------------------------------------\n",
      "3, 0 - exception: division by 0\n",
      "3, 0 - finally this always executes\n"
     ]
    }
   ],
   "source": [
    "a = 0\n",
    "b = 3\n",
    "\n",
    "while a < 4:\n",
    "    print(50*'-')\n",
    "    a += 1\n",
    "    b -= 1\n",
    "    \n",
    "    try:\n",
    "        a/b\n",
    "    except ZeroDivisionError:\n",
    "        print('{}, {} - exception: division by 0'.format(a, b))\n",
    "        break\n",
    "    finally:\n",
    "        print('{}, {} - finally this always executes'.format(a, b))\n",
    "    \n",
    "    print('{}, {} - main loop run'.format(a, b))"
   ]
  },
  {
   "cell_type": "code",
   "execution_count": 59,
   "metadata": {
    "ExecuteTime": {
     "end_time": "2019-12-15T21:05:51.703157Z",
     "start_time": "2019-12-15T21:05:51.698091Z"
    }
   },
   "outputs": [
    {
     "name": "stdout",
     "output_type": "stream",
     "text": [
      "--------------------------------------------------\n",
      "1, 4 - finally this always executes\n",
      "1, 4 - main loop run\n",
      "--------------------------------------------------\n",
      "2, 3 - finally this always executes\n",
      "2, 3 - main loop run\n",
      "--------------------------------------------------\n",
      "3, 2 - finally this always executes\n",
      "3, 2 - main loop run\n",
      "--------------------------------------------------\n",
      "4, 1 - finally this always executes\n",
      "4, 1 - main loop run\n",
      "Code executed without a zero division error\n"
     ]
    }
   ],
   "source": [
    "a = 0\n",
    "b = 5\n",
    "\n",
    "while a < 4:\n",
    "    print(50*'-')\n",
    "    a += 1\n",
    "    b -= 1\n",
    "    \n",
    "    try:\n",
    "        a/b\n",
    "    except ZeroDivisionError:\n",
    "        print('{}, {} - exception: division by 0'.format(a, b))\n",
    "        break\n",
    "    finally:\n",
    "        print('{}, {} - finally this always executes'.format(a, b))\n",
    "    \n",
    "    print('{}, {} - main loop run'.format(a, b))\n",
    "else:\n",
    "    print('Code executed without a zero division error')"
   ]
  },
  {
   "cell_type": "markdown",
   "metadata": {},
   "source": [
    "---"
   ]
  },
  {
   "cell_type": "markdown",
   "metadata": {},
   "source": [
    "# For Loop"
   ]
  },
  {
   "cell_type": "code",
   "execution_count": 68,
   "metadata": {
    "ExecuteTime": {
     "end_time": "2019-12-15T21:22:46.295351Z",
     "start_time": "2019-12-15T21:22:46.291678Z"
    }
   },
   "outputs": [
    {
     "name": "stdout",
     "output_type": "stream",
     "text": [
      "1\n",
      "2\n",
      "3\n",
      "4\n",
      "5\n",
      "no multiple of 7 in the range\n"
     ]
    }
   ],
   "source": [
    "for i in range(1, 6):\n",
    "    print(i)\n",
    "    if i % 7 == 0:\n",
    "        print('multiple of 7 found')\n",
    "        break\n",
    "              \n",
    "else:\n",
    "    print('no multiple of 7 in the range')"
   ]
  },
  {
   "cell_type": "code",
   "execution_count": 69,
   "metadata": {
    "ExecuteTime": {
     "end_time": "2019-12-15T21:22:54.564310Z",
     "start_time": "2019-12-15T21:22:54.560508Z"
    }
   },
   "outputs": [
    {
     "name": "stdout",
     "output_type": "stream",
     "text": [
      "1\n",
      "2\n",
      "3\n",
      "4\n",
      "5\n",
      "6\n",
      "7\n",
      "multiple of 7 found\n"
     ]
    }
   ],
   "source": [
    "for i in range(1, 21):\n",
    "    print(i)\n",
    "    if i % 7 == 0:\n",
    "        print('multiple of 7 found')\n",
    "        break\n",
    "              \n",
    "else:\n",
    "    print('no multiple of 7 in the range')"
   ]
  },
  {
   "cell_type": "code",
   "execution_count": null,
   "metadata": {},
   "outputs": [],
   "source": []
  }
 ],
 "metadata": {
  "kernelspec": {
   "display_name": "Python 3",
   "language": "python",
   "name": "python3"
  },
  "language_info": {
   "codemirror_mode": {
    "name": "ipython",
    "version": 3
   },
   "file_extension": ".py",
   "mimetype": "text/x-python",
   "name": "python",
   "nbconvert_exporter": "python",
   "pygments_lexer": "ipython3",
   "version": "3.7.5"
  },
  "toc": {
   "base_numbering": 1,
   "nav_menu": {},
   "number_sections": true,
   "sideBar": true,
   "skip_h1_title": false,
   "title_cell": "Table of Contents",
   "title_sidebar": "Contents",
   "toc_cell": false,
   "toc_position": {},
   "toc_section_display": true,
   "toc_window_display": false
  }
 },
 "nbformat": 4,
 "nbformat_minor": 2
}
