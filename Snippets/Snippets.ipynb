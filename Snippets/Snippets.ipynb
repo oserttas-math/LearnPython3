{
 "cells": [
  {
   "cell_type": "code",
   "execution_count": 3,
   "metadata": {
    "ExecuteTime": {
     "end_time": "2020-01-08T02:44:33.254652Z",
     "start_time": "2020-01-08T02:44:29.661967Z"
    }
   },
   "outputs": [],
   "source": [
    "import pandas as pd\n",
    "import numpy as np"
   ]
  },
  {
   "cell_type": "code",
   "execution_count": 5,
   "metadata": {
    "ExecuteTime": {
     "end_time": "2020-01-08T02:45:52.141796Z",
     "start_time": "2020-01-08T02:45:52.138563Z"
    }
   },
   "outputs": [],
   "source": [
    "# set pandas display options\n",
    "def display_all(df):\n",
    "    with pd.option_context('display.max_rows', 10000):\n",
    "        with pd.option_context('display.max_columns', 10000):\n",
    "            display(df)"
   ]
  },
  {
   "cell_type": "code",
   "execution_count": null,
   "metadata": {
    "ExecuteTime": {
     "end_time": "2020-01-08T03:49:18.923644Z",
     "start_time": "2020-01-08T03:49:18.878486Z"
    }
   },
   "outputs": [],
   "source": [
    "# incredibly fast way of reading and saving the data\n",
    "# save the dataframe to the disk\n",
    "# do !pip install feather-format first\n",
    "os.makedirs('folder_name', exist_ok=True)\n",
    "df_raw.to_feather('folder_name/df_raw')\n",
    "# to read it back to notebook\n",
    "df_raw_read = pd.read_feather('folder_name/df_raw')"
   ]
  },
  {
   "cell_type": "code",
   "execution_count": null,
   "metadata": {},
   "outputs": [],
   "source": []
  }
 ],
 "metadata": {
  "kernelspec": {
   "display_name": "Python 3",
   "language": "python",
   "name": "python3"
  },
  "language_info": {
   "codemirror_mode": {
    "name": "ipython",
    "version": 3
   },
   "file_extension": ".py",
   "mimetype": "text/x-python",
   "name": "python",
   "nbconvert_exporter": "python",
   "pygments_lexer": "ipython3",
   "version": "3.7.5"
  },
  "toc": {
   "base_numbering": 1,
   "nav_menu": {},
   "number_sections": true,
   "sideBar": true,
   "skip_h1_title": false,
   "title_cell": "Table of Contents",
   "title_sidebar": "Contents",
   "toc_cell": false,
   "toc_position": {},
   "toc_section_display": true,
   "toc_window_display": false
  }
 },
 "nbformat": 4,
 "nbformat_minor": 2
}
