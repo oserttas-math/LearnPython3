{
 "cells": [
  {
   "cell_type": "code",
   "execution_count": 11,
   "metadata": {
    "ExecuteTime": {
     "end_time": "2019-12-01T23:03:19.910859Z",
     "start_time": "2019-12-01T23:03:19.907585Z"
    }
   },
   "outputs": [
    {
     "name": "stdout",
     "output_type": "stream",
     "text": [
      "['Amazon', 'Alibabanin', 'eBay', 'bhphoto', 'costco']\n"
     ]
    }
   ],
   "source": [
    "names = ['Amazon', 'Alibabanin', 'eBay', 'bhphoto', 'costco']\n",
    "print(names)"
   ]
  },
  {
   "cell_type": "code",
   "execution_count": 12,
   "metadata": {
    "ExecuteTime": {
     "end_time": "2019-12-01T23:03:21.485542Z",
     "start_time": "2019-12-01T23:03:21.482430Z"
    }
   },
   "outputs": [],
   "source": [
    "helper = lambda x: len(x)"
   ]
  },
  {
   "cell_type": "code",
   "execution_count": 13,
   "metadata": {
    "ExecuteTime": {
     "end_time": "2019-12-01T23:03:21.924826Z",
     "start_time": "2019-12-01T23:03:21.921011Z"
    }
   },
   "outputs": [
    {
     "data": {
      "text/plain": [
       "6"
      ]
     },
     "execution_count": 13,
     "metadata": {},
     "output_type": "execute_result"
    }
   ],
   "source": [
    "helper(names[0])"
   ]
  },
  {
   "cell_type": "code",
   "execution_count": 14,
   "metadata": {
    "ExecuteTime": {
     "end_time": "2019-12-01T23:03:56.677075Z",
     "start_time": "2019-12-01T23:03:56.673735Z"
    }
   },
   "outputs": [
    {
     "name": "stdout",
     "output_type": "stream",
     "text": [
      "['eBay', 'Amazon', 'costco', 'bhphoto', 'Alibabanin']\n"
     ]
    }
   ],
   "source": [
    "names.sort(key=lambda x:len(x))\n",
    "print(names)"
   ]
  },
  {
   "cell_type": "markdown",
   "metadata": {},
   "source": [
    "### Reduce Visual Noise with *"
   ]
  },
  {
   "cell_type": "code",
   "execution_count": 16,
   "metadata": {
    "ExecuteTime": {
     "end_time": "2019-12-01T23:15:24.474860Z",
     "start_time": "2019-12-01T23:15:24.470503Z"
    }
   },
   "outputs": [
    {
     "name": "stdout",
     "output_type": "stream",
     "text": [
      "My numbers are : 1, 2\n"
     ]
    }
   ],
   "source": [
    "def log(message, values):\n",
    "    if not values:\n",
    "        print(message)\n",
    "    else:\n",
    "        value_str = ', '.join(str(x) for x in values)\n",
    "        print(\"{} : {}\".format(message, value_str))\n",
    "\n",
    "log('My numbers are', [1,2])"
   ]
  },
  {
   "cell_type": "code",
   "execution_count": 18,
   "metadata": {
    "ExecuteTime": {
     "end_time": "2019-12-01T23:17:21.931150Z",
     "start_time": "2019-12-01T23:17:21.924548Z"
    }
   },
   "outputs": [
    {
     "ename": "TypeError",
     "evalue": "log() missing 1 required positional argument: 'values'",
     "output_type": "error",
     "traceback": [
      "\u001b[0;31m---------------------------------------------------------------------------\u001b[0m",
      "\u001b[0;31mTypeError\u001b[0m                                 Traceback (most recent call last)",
      "\u001b[0;32m<ipython-input-18-b8d48606107e>\u001b[0m in \u001b[0;36m<module>\u001b[0;34m\u001b[0m\n\u001b[0;32m----> 1\u001b[0;31m \u001b[0mlog\u001b[0m\u001b[0;34m(\u001b[0m\u001b[0;34m\"My numbers are\"\u001b[0m\u001b[0;34m)\u001b[0m\u001b[0;34m\u001b[0m\u001b[0;34m\u001b[0m\u001b[0m\n\u001b[0m",
      "\u001b[0;31mTypeError\u001b[0m: log() missing 1 required positional argument: 'values'"
     ]
    }
   ],
   "source": [
    "log(\"My numbers are\")"
   ]
  },
  {
   "cell_type": "markdown",
   "metadata": {},
   "source": [
    "- This would not work if passed log('My numbers are', 1,2) as well. "
   ]
  },
  {
   "cell_type": "code",
   "execution_count": 19,
   "metadata": {
    "ExecuteTime": {
     "end_time": "2019-12-01T23:17:26.623320Z",
     "start_time": "2019-12-01T23:17:26.616023Z"
    }
   },
   "outputs": [
    {
     "ename": "TypeError",
     "evalue": "log() takes 2 positional arguments but 3 were given",
     "output_type": "error",
     "traceback": [
      "\u001b[0;31m---------------------------------------------------------------------------\u001b[0m",
      "\u001b[0;31mTypeError\u001b[0m                                 Traceback (most recent call last)",
      "\u001b[0;32m<ipython-input-19-03b7db224a52>\u001b[0m in \u001b[0;36m<module>\u001b[0;34m\u001b[0m\n\u001b[0;32m----> 1\u001b[0;31m \u001b[0mlog\u001b[0m\u001b[0;34m(\u001b[0m\u001b[0;34m'My numbers are'\u001b[0m\u001b[0;34m,\u001b[0m \u001b[0;36m1\u001b[0m\u001b[0;34m,\u001b[0m\u001b[0;36m2\u001b[0m\u001b[0;34m)\u001b[0m\u001b[0;34m\u001b[0m\u001b[0;34m\u001b[0m\u001b[0m\n\u001b[0m",
      "\u001b[0;31mTypeError\u001b[0m: log() takes 2 positional arguments but 3 were given"
     ]
    }
   ],
   "source": [
    "log('My numbers are', 1,2)"
   ]
  },
  {
   "cell_type": "code",
   "execution_count": 22,
   "metadata": {
    "ExecuteTime": {
     "end_time": "2019-12-01T23:22:38.292207Z",
     "start_time": "2019-12-01T23:22:38.287822Z"
    }
   },
   "outputs": [
    {
     "name": "stdout",
     "output_type": "stream",
     "text": [
      "My numbers are : 1, 2\n",
      "None\n",
      "My additional numbers are\n",
      "None\n"
     ]
    }
   ],
   "source": [
    "# to fix this issue make parameter optional using *\n",
    "def log(message, *values):\n",
    "    if not values:\n",
    "        print(message)\n",
    "    else:\n",
    "        value_str = ', '.join(str(x) for x in values)\n",
    "        print(\"{} : {}\".format(message, value_str))\n",
    "\n",
    "print(log('My numbers are', 1,2))\n",
    "print(log('My additional numbers are'))"
   ]
  },
  {
   "cell_type": "markdown",
   "metadata": {},
   "source": [
    "As we made second parameter optional:\n",
    "\n",
    "- Now we do not have to use [] for the second argument if we have multiple values for that\n",
    "- We do not have to pass value for the second argument as well"
   ]
  },
  {
   "cell_type": "code",
   "execution_count": 23,
   "metadata": {
    "ExecuteTime": {
     "end_time": "2019-12-01T23:25:36.463684Z",
     "start_time": "2019-12-01T23:25:36.460294Z"
    }
   },
   "outputs": [
    {
     "name": "stdout",
     "output_type": "stream",
     "text": [
      "My favorite numbers are : [1, 3, 5, 7, 9]\n",
      "None\n"
     ]
    }
   ],
   "source": [
    "favorites = [1, 3, 5, 7, 9]\n",
    "\n",
    "# how should you pass this in the function now\n",
    "print(log('My favorite numbers are', favorites))"
   ]
  },
  {
   "cell_type": "code",
   "execution_count": 24,
   "metadata": {
    "ExecuteTime": {
     "end_time": "2019-12-01T23:26:10.475184Z",
     "start_time": "2019-12-01T23:26:10.471708Z"
    }
   },
   "outputs": [
    {
     "name": "stdout",
     "output_type": "stream",
     "text": [
      "My favorite numbers are : 1, 3, 5, 7, 9\n",
      "None\n"
     ]
    }
   ],
   "source": [
    "# how should you pass this in the function now\n",
    "print(log('My favorite numbers are', 1, 3, 5, 7, 9))"
   ]
  },
  {
   "cell_type": "code",
   "execution_count": 25,
   "metadata": {
    "ExecuteTime": {
     "end_time": "2019-12-01T23:26:33.291144Z",
     "start_time": "2019-12-01T23:26:33.287963Z"
    }
   },
   "outputs": [
    {
     "name": "stdout",
     "output_type": "stream",
     "text": [
      "My favorite numbers are : 1, 3, 5, 7, 9\n",
      "None\n"
     ]
    }
   ],
   "source": [
    "# or \n",
    "print(log('My favorite numbers are', *favorites))"
   ]
  },
  {
   "cell_type": "markdown",
   "metadata": {},
   "source": [
    "### Paramater Defaults"
   ]
  },
  {
   "cell_type": "markdown",
   "metadata": {},
   "source": [
    "\n",
    "- when defining mutable objects to parameter default be careful! You do not want to keep changing/over-writing your object if you want your function to create mutable objects by taking inputs from user. \n",
    "- So when you wish to use mutable object as parameter default pass None or empty object in the function parameter."
   ]
  },
  {
   "cell_type": "code",
   "execution_count": 27,
   "metadata": {
    "ExecuteTime": {
     "end_time": "2019-12-31T05:12:17.577435Z",
     "start_time": "2019-12-31T05:12:17.574619Z"
    }
   },
   "outputs": [],
   "source": [
    "# with this structure your user have to provide a list to your function to add items in that list\n",
    "def add_item(name, quantity, unit, grocery_list):\n",
    "    grocery_list.append('{} ({} {})'.format(name, quantity, unit))\n",
    "    return grocery_list"
   ]
  },
  {
   "cell_type": "code",
   "execution_count": 28,
   "metadata": {
    "ExecuteTime": {
     "end_time": "2019-12-31T05:12:18.139076Z",
     "start_time": "2019-12-31T05:12:18.136466Z"
    }
   },
   "outputs": [],
   "source": [
    "store1 = []\n",
    "store2 = []"
   ]
  },
  {
   "cell_type": "code",
   "execution_count": 29,
   "metadata": {
    "ExecuteTime": {
     "end_time": "2019-12-31T05:12:18.657686Z",
     "start_time": "2019-12-31T05:12:18.653919Z"
    }
   },
   "outputs": [
    {
     "data": {
      "text/plain": [
       "[]"
      ]
     },
     "execution_count": 29,
     "metadata": {},
     "output_type": "execute_result"
    }
   ],
   "source": [
    "store1"
   ]
  },
  {
   "cell_type": "code",
   "execution_count": 30,
   "metadata": {
    "ExecuteTime": {
     "end_time": "2019-12-31T05:12:19.647666Z",
     "start_time": "2019-12-31T05:12:19.644049Z"
    }
   },
   "outputs": [
    {
     "data": {
      "text/plain": [
       "['bread (1 100gram)']"
      ]
     },
     "execution_count": 30,
     "metadata": {},
     "output_type": "execute_result"
    }
   ],
   "source": [
    "add_item('bread', 1, '100gram', store1)"
   ]
  },
  {
   "cell_type": "code",
   "execution_count": 31,
   "metadata": {
    "ExecuteTime": {
     "end_time": "2019-12-31T05:12:21.289909Z",
     "start_time": "2019-12-31T05:12:21.286665Z"
    }
   },
   "outputs": [
    {
     "data": {
      "text/plain": [
       "['bread (1 100gram)']"
      ]
     },
     "execution_count": 31,
     "metadata": {},
     "output_type": "execute_result"
    }
   ],
   "source": [
    "store1"
   ]
  },
  {
   "cell_type": "code",
   "execution_count": 33,
   "metadata": {
    "ExecuteTime": {
     "end_time": "2019-12-31T05:12:35.633962Z",
     "start_time": "2019-12-31T05:12:35.630987Z"
    }
   },
   "outputs": [],
   "source": [
    "#instead you could pass a list as your default parameter to your keyword argument\n",
    "# BUT here is the problem !!!\n",
    "def add_item(name, quantity, unit, grocery_list=[]):\n",
    "    grocery_list.append('{} ({} {})'.format(name, quantity, unit))\n",
    "    return grocery_list"
   ]
  },
  {
   "cell_type": "code",
   "execution_count": 34,
   "metadata": {
    "ExecuteTime": {
     "end_time": "2019-12-31T05:12:36.161796Z",
     "start_time": "2019-12-31T05:12:36.159212Z"
    }
   },
   "outputs": [],
   "source": [
    "store3 = add_item('wheat bread', 1, '100grm')"
   ]
  },
  {
   "cell_type": "code",
   "execution_count": 35,
   "metadata": {
    "ExecuteTime": {
     "end_time": "2019-12-31T05:12:37.062919Z",
     "start_time": "2019-12-31T05:12:37.059450Z"
    }
   },
   "outputs": [
    {
     "data": {
      "text/plain": [
       "['wheat bread (1 100grm)']"
      ]
     },
     "execution_count": 35,
     "metadata": {},
     "output_type": "execute_result"
    }
   ],
   "source": [
    "store3"
   ]
  },
  {
   "cell_type": "code",
   "execution_count": 36,
   "metadata": {
    "ExecuteTime": {
     "end_time": "2019-12-31T05:13:35.125316Z",
     "start_time": "2019-12-31T05:13:35.121843Z"
    }
   },
   "outputs": [
    {
     "data": {
      "text/plain": [
       "['wheat bread (1 100grm)', 'brake pad (1 rear)']"
      ]
     },
     "execution_count": 36,
     "metadata": {},
     "output_type": "execute_result"
    }
   ],
   "source": [
    "# Pay attention to the problem now\n",
    "store4 = add_item('brake pad', 1, 'rear')\n",
    "store4"
   ]
  },
  {
   "cell_type": "markdown",
   "metadata": {},
   "source": [
    "- We shouldn't have items from the first list our function created! So this is because of the default parameter and list object being mutable.\n",
    "- The solution for this to use immutable objects or None (empty_object)"
   ]
  },
  {
   "cell_type": "code",
   "execution_count": 37,
   "metadata": {
    "ExecuteTime": {
     "end_time": "2019-12-31T05:21:34.575667Z",
     "start_time": "2019-12-31T05:21:34.571814Z"
    }
   },
   "outputs": [],
   "source": [
    "def add_item(name, quantity, unit, grocery_list=None):\n",
    "    if not grocery_list: # if list was not supplied then false\n",
    "        grocery_list = []\n",
    "    grocery_list.append('{} ({} {})'.format(name, quantity, unit))\n",
    "    return grocery_list"
   ]
  },
  {
   "cell_type": "code",
   "execution_count": 39,
   "metadata": {
    "ExecuteTime": {
     "end_time": "2019-12-31T05:22:15.043030Z",
     "start_time": "2019-12-31T05:22:15.039236Z"
    }
   },
   "outputs": [
    {
     "data": {
      "text/plain": [
       "['wheat bread (1 100grm)']"
      ]
     },
     "execution_count": 39,
     "metadata": {},
     "output_type": "execute_result"
    }
   ],
   "source": [
    "store1 = add_item('wheat bread', 1, '100grm')\n",
    "store1"
   ]
  },
  {
   "cell_type": "code",
   "execution_count": 41,
   "metadata": {
    "ExecuteTime": {
     "end_time": "2019-12-31T05:22:41.021841Z",
     "start_time": "2019-12-31T05:22:41.017532Z"
    }
   },
   "outputs": [
    {
     "data": {
      "text/plain": [
       "['brake pad (1 rear)']"
      ]
     },
     "execution_count": 41,
     "metadata": {},
     "output_type": "execute_result"
    }
   ],
   "source": [
    "store2 = add_item('brake pad', 1, 'rear')\n",
    "store2"
   ]
  },
  {
   "cell_type": "code",
   "execution_count": 42,
   "metadata": {
    "ExecuteTime": {
     "end_time": "2019-12-31T05:23:30.711788Z",
     "start_time": "2019-12-31T05:23:30.707928Z"
    }
   },
   "outputs": [
    {
     "data": {
      "text/plain": [
       "['wheat bread (1 100grm)', 'brake pad (1 rear)']"
      ]
     },
     "execution_count": 42,
     "metadata": {},
     "output_type": "execute_result"
    }
   ],
   "source": [
    "add_item('brake pad', 1, 'rear', store1)\n",
    "store1"
   ]
  },
  {
   "cell_type": "markdown",
   "metadata": {},
   "source": [
    "- now it works as expected"
   ]
  },
  {
   "cell_type": "code",
   "execution_count": 2,
   "metadata": {
    "ExecuteTime": {
     "end_time": "2019-12-31T04:50:09.625792Z",
     "start_time": "2019-12-31T04:50:09.622528Z"
    }
   },
   "outputs": [],
   "source": [
    "# finding n! of a number n with non-efficient way\n",
    "def factorial(n):\n",
    "    if n < 1:\n",
    "        return 1\n",
    "    else:\n",
    "        print('calculating {}!'.format(n))\n",
    "    return n * factorial(n-1)"
   ]
  },
  {
   "cell_type": "code",
   "execution_count": 3,
   "metadata": {
    "ExecuteTime": {
     "end_time": "2019-12-31T04:50:16.956251Z",
     "start_time": "2019-12-31T04:50:16.946592Z"
    }
   },
   "outputs": [
    {
     "name": "stdout",
     "output_type": "stream",
     "text": [
      "calculating 3!\n",
      "calculating 2!\n",
      "calculating 1!\n"
     ]
    },
    {
     "data": {
      "text/plain": [
       "6"
      ]
     },
     "execution_count": 3,
     "metadata": {},
     "output_type": "execute_result"
    }
   ],
   "source": [
    "factorial(3)"
   ]
  },
  {
   "cell_type": "code",
   "execution_count": 4,
   "metadata": {
    "ExecuteTime": {
     "end_time": "2019-12-31T04:50:22.147990Z",
     "start_time": "2019-12-31T04:50:22.143660Z"
    }
   },
   "outputs": [
    {
     "name": "stdout",
     "output_type": "stream",
     "text": [
      "calculating 6!\n",
      "calculating 5!\n",
      "calculating 4!\n",
      "calculating 3!\n",
      "calculating 2!\n",
      "calculating 1!\n"
     ]
    },
    {
     "data": {
      "text/plain": [
       "720"
      ]
     },
     "execution_count": 4,
     "metadata": {},
     "output_type": "execute_result"
    }
   ],
   "source": [
    "factorial(6)"
   ]
  },
  {
   "cell_type": "markdown",
   "metadata": {},
   "source": [
    "- As seen above function takes time to calculate factorial of computed values. To prevent this we could save what the factorial of a number to reduce computational cost in total"
   ]
  },
  {
   "cell_type": "code",
   "execution_count": 5,
   "metadata": {
    "ExecuteTime": {
     "end_time": "2019-12-31T04:59:16.261363Z",
     "start_time": "2019-12-31T04:59:16.257646Z"
    }
   },
   "outputs": [],
   "source": [
    "# finding n! of a number n with non-efficient way\n",
    "def factorial(n, cache={}):\n",
    "    if n < 1:\n",
    "        return 1\n",
    "    elif n in cache:\n",
    "        return cache[n]\n",
    "    else:\n",
    "        print('calculating {}!'.format(n))\n",
    "        result = n * factorial(n-1)\n",
    "        cache[n] = result\n",
    "        return result"
   ]
  },
  {
   "cell_type": "code",
   "execution_count": 6,
   "metadata": {
    "ExecuteTime": {
     "end_time": "2019-12-31T04:59:22.516958Z",
     "start_time": "2019-12-31T04:59:22.512596Z"
    }
   },
   "outputs": [
    {
     "name": "stdout",
     "output_type": "stream",
     "text": [
      "calculating 3!\n",
      "calculating 2!\n",
      "calculating 1!\n"
     ]
    },
    {
     "data": {
      "text/plain": [
       "6"
      ]
     },
     "execution_count": 6,
     "metadata": {},
     "output_type": "execute_result"
    }
   ],
   "source": [
    "factorial(3)"
   ]
  },
  {
   "cell_type": "code",
   "execution_count": 7,
   "metadata": {
    "ExecuteTime": {
     "end_time": "2019-12-31T04:59:27.927928Z",
     "start_time": "2019-12-31T04:59:27.923806Z"
    }
   },
   "outputs": [
    {
     "name": "stdout",
     "output_type": "stream",
     "text": [
      "calculating 5!\n",
      "calculating 4!\n"
     ]
    },
    {
     "data": {
      "text/plain": [
       "120"
      ]
     },
     "execution_count": 7,
     "metadata": {},
     "output_type": "execute_result"
    }
   ],
   "source": [
    "factorial(5)"
   ]
  },
  {
   "cell_type": "code",
   "execution_count": 8,
   "metadata": {
    "ExecuteTime": {
     "end_time": "2019-12-31T04:59:34.239059Z",
     "start_time": "2019-12-31T04:59:34.235528Z"
    }
   },
   "outputs": [
    {
     "data": {
      "text/plain": [
       "6"
      ]
     },
     "execution_count": 8,
     "metadata": {},
     "output_type": "execute_result"
    }
   ],
   "source": [
    "factorial(3)"
   ]
  },
  {
   "cell_type": "code",
   "execution_count": null,
   "metadata": {},
   "outputs": [],
   "source": []
  }
 ],
 "metadata": {
  "kernelspec": {
   "display_name": "Python 3",
   "language": "python",
   "name": "python3"
  },
  "language_info": {
   "codemirror_mode": {
    "name": "ipython",
    "version": 3
   },
   "file_extension": ".py",
   "mimetype": "text/x-python",
   "name": "python",
   "nbconvert_exporter": "python",
   "pygments_lexer": "ipython3",
   "version": "3.7.5"
  },
  "toc": {
   "base_numbering": 1,
   "nav_menu": {},
   "number_sections": true,
   "sideBar": true,
   "skip_h1_title": false,
   "title_cell": "Table of Contents",
   "title_sidebar": "Contents",
   "toc_cell": false,
   "toc_position": {},
   "toc_section_display": true,
   "toc_window_display": false
  }
 },
 "nbformat": 4,
 "nbformat_minor": 2
}
