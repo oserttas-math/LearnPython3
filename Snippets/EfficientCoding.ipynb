{
 "cells": [
  {
   "cell_type": "markdown",
   "metadata": {},
   "source": [
    "# Generators "
   ]
  },
  {
   "cell_type": "code",
   "execution_count": 1,
   "metadata": {
    "ExecuteTime": {
     "end_time": "2019-12-01T19:07:02.057993Z",
     "start_time": "2019-12-01T19:07:02.054344Z"
    }
   },
   "outputs": [],
   "source": [
    "# Consider generators instead of returning lists\n",
    "\"\"\"This content is based off of Brett Slatkin's Effective Python video lectures\"\"\"\n",
    "def index_words(handle):\n",
    "    offset = 0\n",
    "    for line in handle:\n",
    "        if line:\n",
    "            yield offset\n",
    "        for letter in line:\n",
    "            offset +=1\n",
    "            if letter == ' ':\n",
    "                yield offset\n",
    "                "
   ]
  },
  {
   "cell_type": "code",
   "execution_count": 2,
   "metadata": {
    "ExecuteTime": {
     "end_time": "2019-12-01T19:08:38.097416Z",
     "start_time": "2019-12-01T19:08:38.094114Z"
    }
   },
   "outputs": [],
   "source": [
    "texts = \"he simplest choice for functions that produce a sequence of results is to return a list of items. For example, say you want to find the index of every word in a string. So, here I'm gonna define such a function. Takes the input texts, then it's going to have the results of the index of each word in that text. I'm assuming the text doesn't have any whitespace before or after it. And so if the text is not empty, an empty string, then we know that the very first position is a word. \"\n",
    "\n",
    "with open('sampletext.txt', 'w') as f:\n",
    "    f.write(texts)"
   ]
  },
  {
   "cell_type": "code",
   "execution_count": 3,
   "metadata": {
    "ExecuteTime": {
     "end_time": "2019-12-01T19:09:32.405088Z",
     "start_time": "2019-12-01T19:09:32.400070Z"
    }
   },
   "outputs": [
    {
     "name": "stdout",
     "output_type": "stream",
     "text": [
      "0\n",
      "3\n"
     ]
    }
   ],
   "source": [
    "with open('sampletext.txt', 'r') as f:\n",
    "    it = index_words(f)\n",
    "    print(next(it))\n",
    "    print(next(it))"
   ]
  },
  {
   "cell_type": "code",
   "execution_count": 23,
   "metadata": {
    "ExecuteTime": {
     "end_time": "2019-12-01T19:31:56.933363Z",
     "start_time": "2019-12-01T19:31:56.930103Z"
    }
   },
   "outputs": [],
   "source": [
    "# memory inefficient way of doing this\n",
    "def index_indicator(statement):\n",
    "    result = []\n",
    "    if statement:\n",
    "        result.append(0)\n",
    "    for index, letter in enumerate(statement):\n",
    "        if letter == ' ':\n",
    "            result.append(index+1)\n",
    "    return result"
   ]
  },
  {
   "cell_type": "code",
   "execution_count": 33,
   "metadata": {
    "ExecuteTime": {
     "end_time": "2019-12-01T19:34:20.096617Z",
     "start_time": "2019-12-01T19:34:20.091941Z"
    }
   },
   "outputs": [
    {
     "data": {
      "text/plain": [
       "96"
      ]
     },
     "execution_count": 33,
     "metadata": {},
     "output_type": "execute_result"
    }
   ],
   "source": [
    "with open('sampletext.txt', 'r') as f:\n",
    "    result = index_indicator(f.readline())\n",
    "len(result)"
   ]
  },
  {
   "cell_type": "markdown",
   "metadata": {},
   "source": [
    "- So the second function is using memory to save all indicies of words which could crash program if the text file is huge."
   ]
  },
  {
   "cell_type": "code",
   "execution_count": null,
   "metadata": {},
   "outputs": [],
   "source": []
  }
 ],
 "metadata": {
  "kernelspec": {
   "display_name": "Python 3",
   "language": "python",
   "name": "python3"
  },
  "language_info": {
   "codemirror_mode": {
    "name": "ipython",
    "version": 3
   },
   "file_extension": ".py",
   "mimetype": "text/x-python",
   "name": "python",
   "nbconvert_exporter": "python",
   "pygments_lexer": "ipython3",
   "version": "3.7.5"
  },
  "toc": {
   "base_numbering": 1,
   "nav_menu": {},
   "number_sections": true,
   "sideBar": true,
   "skip_h1_title": false,
   "title_cell": "Table of Contents",
   "title_sidebar": "Contents",
   "toc_cell": false,
   "toc_position": {},
   "toc_section_display": true,
   "toc_window_display": false
  }
 },
 "nbformat": 4,
 "nbformat_minor": 2
}
